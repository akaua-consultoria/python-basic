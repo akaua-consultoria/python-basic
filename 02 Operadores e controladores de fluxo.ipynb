{
 "cells": [
  {
   "cell_type": "markdown",
   "id": "a00d1db3-8a4e-4ff3-941c-d5003637bc3b",
   "metadata": {},
   "source": [
    "# Operadores e estruturas de controle de fluxo"
   ]
  },
  {
   "cell_type": "markdown",
   "id": "0faa0aa2-de1c-47af-b635-8d0b5b4b5112",
   "metadata": {
    "jp-MarkdownHeadingCollapsed": true
   },
   "source": [
    "## 1. Antes de mais nada"
   ]
  },
  {
   "cell_type": "markdown",
   "id": "79cb08c6-fe03-4f3f-bc84-93b5917ae52a",
   "metadata": {
    "jp-MarkdownHeadingCollapsed": true
   },
   "source": [
    "### Declarações\n",
    "No python o final das declarações de códigos é marcada pelo final da linha (diferentes de outras linguagens que utilizam o ponto e vírgula ;)"
   ]
  },
  {
   "cell_type": "code",
   "execution_count": 17,
   "id": "280d52d8-9cdc-4c54-b06e-d816e29e128e",
   "metadata": {},
   "outputs": [
    {
     "name": "stdout",
     "output_type": "stream",
     "text": [
      "1 2\n",
      "3 4\n"
     ]
    }
   ],
   "source": [
    "# equivalentes\n",
    "a = 1; b =2; print(a,b)\n",
    "a = 3\n",
    "b = 4\n",
    "print(a,b)"
   ]
  },
  {
   "cell_type": "code",
   "execution_count": 23,
   "id": "254c2e74-bd82-4653-8cd5-686ee095006c",
   "metadata": {},
   "outputs": [
    {
     "name": "stdout",
     "output_type": "stream",
     "text": [
      "4\n"
     ]
    }
   ],
   "source": [
    "# mas também possível continuar um código na linha de baixo utiliando o \\\n",
    "a = 2 +\\\n",
    "2\n",
    "print(a)"
   ]
  },
  {
   "cell_type": "markdown",
   "id": "0b59ef55-7dcf-41e0-b01e-37bb92b99db7",
   "metadata": {
    "jp-MarkdownHeadingCollapsed": true
   },
   "source": [
    "### Indentação\n",
    "Porque o python utiliza o final das linhas (e outras questóes) a identação é bastante importante"
   ]
  },
  {
   "cell_type": "code",
   "execution_count": 26,
   "id": "7313f926-b8a6-493b-a298-aea4d2a104ea",
   "metadata": {},
   "outputs": [
    {
     "name": "stdout",
     "output_type": "stream",
     "text": [
      "True\n"
     ]
    }
   ],
   "source": [
    "# um exemplo de uso adequado de indentação\n",
    "if 1 < 2:\n",
    "    print(True)\n",
    "else:\n",
    "    print(False)"
   ]
  },
  {
   "cell_type": "code",
   "execution_count": 28,
   "id": "8362891b-641a-41b7-b587-35faab1c9a0d",
   "metadata": {},
   "outputs": [
    {
     "ename": "IndentationError",
     "evalue": "expected an indented block after 'if' statement on line 2 (1515554904.py, line 3)",
     "output_type": "error",
     "traceback": [
      "\u001b[1;36m  Cell \u001b[1;32mIn[28], line 3\u001b[1;36m\u001b[0m\n\u001b[1;33m    print(True)\u001b[0m\n\u001b[1;37m    ^\u001b[0m\n\u001b[1;31mIndentationError\u001b[0m\u001b[1;31m:\u001b[0m expected an indented block after 'if' statement on line 2\n"
     ]
    }
   ],
   "source": [
    "# um exemplo de uso incorreto de indentação (sem indentação)\n",
    "if 1 < 2:\n",
    "print(True)\n",
    "else:\n",
    "print(False)"
   ]
  },
  {
   "cell_type": "markdown",
   "id": "123d7d8b-7ddc-46ec-b36f-a0da179f1b87",
   "metadata": {
    "jp-MarkdownHeadingCollapsed": true
   },
   "source": [
    "## 2. Operadores\n",
    "Avaliam uma estrutura e retornam valores booleanos (True ou False)"
   ]
  },
  {
   "cell_type": "markdown",
   "id": "4bde5bf1-758f-4614-a035-cf58438299ac",
   "metadata": {
    "jp-MarkdownHeadingCollapsed": true
   },
   "source": [
    "### Operadores aritméticos"
   ]
  },
  {
   "cell_type": "code",
   "execution_count": 3,
   "id": "6bac1ba4-b818-4353-a670-657076dbcc58",
   "metadata": {},
   "outputs": [
    {
     "data": {
      "text/plain": [
       "3"
      ]
     },
     "execution_count": 3,
     "metadata": {},
     "output_type": "execute_result"
    }
   ],
   "source": [
    "# soma\n",
    "1 + 2"
   ]
  },
  {
   "cell_type": "code",
   "execution_count": 4,
   "id": "277fb059-54a9-4a3f-a2b2-afa29f294625",
   "metadata": {},
   "outputs": [
    {
     "data": {
      "text/plain": [
       "-1"
      ]
     },
     "execution_count": 4,
     "metadata": {},
     "output_type": "execute_result"
    }
   ],
   "source": [
    "# subtração\n",
    "1 - 2"
   ]
  },
  {
   "cell_type": "code",
   "execution_count": 5,
   "id": "22274f05-02cf-43bb-9e72-c85e35976ce7",
   "metadata": {},
   "outputs": [
    {
     "data": {
      "text/plain": [
       "6"
      ]
     },
     "execution_count": 5,
     "metadata": {},
     "output_type": "execute_result"
    }
   ],
   "source": [
    "# multiplicação\n",
    "2 * 3"
   ]
  },
  {
   "cell_type": "code",
   "execution_count": 6,
   "id": "86767fd5-e88b-4ed2-87f9-d97f566a1ddc",
   "metadata": {},
   "outputs": [
    {
     "data": {
      "text/plain": [
       "0.4"
      ]
     },
     "execution_count": 6,
     "metadata": {},
     "output_type": "execute_result"
    }
   ],
   "source": [
    "# divisão\n",
    "2 / 5"
   ]
  },
  {
   "cell_type": "code",
   "execution_count": 7,
   "id": "95e044c0-e3aa-4d69-aba2-5256a3200608",
   "metadata": {},
   "outputs": [
    {
     "data": {
      "text/plain": [
       "8"
      ]
     },
     "execution_count": 7,
     "metadata": {},
     "output_type": "execute_result"
    }
   ],
   "source": [
    "# exponenciação\n",
    "2 ** 3"
   ]
  },
  {
   "cell_type": "markdown",
   "id": "00857150-812f-43e0-a31f-8b5ad01704b0",
   "metadata": {},
   "source": [
    "### Operadores de comparação"
   ]
  },
  {
   "cell_type": "code",
   "execution_count": 4,
   "id": "192c4a83-2a15-473b-a94c-315476701818",
   "metadata": {},
   "outputs": [
    {
     "name": "stdout",
     "output_type": "stream",
     "text": [
      "True\n",
      "False\n"
     ]
    }
   ],
   "source": [
    "# igualdade\n",
    "print(1 == 1)\n",
    "print(1 == 2)"
   ]
  },
  {
   "cell_type": "code",
   "execution_count": 5,
   "id": "7ed6af4b-cf9b-4982-bbf0-82511cd368bc",
   "metadata": {},
   "outputs": [
    {
     "name": "stdout",
     "output_type": "stream",
     "text": [
      "False\n",
      "True\n"
     ]
    }
   ],
   "source": [
    "# desigualdade\n",
    "print(1 != 1)\n",
    "print(1 != 2)"
   ]
  },
  {
   "cell_type": "code",
   "execution_count": 6,
   "id": "a08e5ed7-4b92-4a30-81a8-6b769910fc0b",
   "metadata": {},
   "outputs": [
    {
     "name": "stdout",
     "output_type": "stream",
     "text": [
      "False\n",
      "True\n"
     ]
    }
   ],
   "source": [
    "# maior e maior ou igual\n",
    "print(1 > 1)\n",
    "print(1 >= 1)"
   ]
  },
  {
   "cell_type": "code",
   "execution_count": 7,
   "id": "fec6983d-b501-4343-93e3-97d888908035",
   "metadata": {},
   "outputs": [
    {
     "name": "stdout",
     "output_type": "stream",
     "text": [
      "False\n",
      "True\n"
     ]
    }
   ],
   "source": [
    "# menor e menor ou igual\n",
    "print(1 < 1)\n",
    "print(1 <= 1)"
   ]
  },
  {
   "cell_type": "markdown",
   "id": "949a0b28-3547-42fa-aada-a9b533a67766",
   "metadata": {},
   "source": [
    "#### Comparações em cadeia\n",
    "Analisa se TODAS as comparações são verdadeiras ou falsas"
   ]
  },
  {
   "cell_type": "code",
   "execution_count": 8,
   "id": "96719683-893a-4ea1-ba62-8079d952b6bd",
   "metadata": {},
   "outputs": [
    {
     "data": {
      "text/plain": [
       "True"
      ]
     },
     "execution_count": 8,
     "metadata": {},
     "output_type": "execute_result"
    }
   ],
   "source": [
    "1 < 2 < 3"
   ]
  },
  {
   "cell_type": "code",
   "execution_count": 8,
   "id": "a0fe62c9-4c1a-4b2b-aea9-8ab8e099a2ae",
   "metadata": {},
   "outputs": [
    {
     "data": {
      "text/plain": [
       "False"
      ]
     },
     "execution_count": 8,
     "metadata": {},
     "output_type": "execute_result"
    }
   ],
   "source": [
    "1 < 2 > 3"
   ]
  },
  {
   "cell_type": "markdown",
   "id": "a2d4530e-c4d7-4076-b894-e2e59f461ada",
   "metadata": {},
   "source": [
    "### Operadores lógicos"
   ]
  },
  {
   "cell_type": "code",
   "execution_count": 13,
   "id": "c3010ad6-9ae2-4b5d-a3b5-f0f4cb204c1d",
   "metadata": {},
   "outputs": [
    {
     "name": "stdout",
     "output_type": "stream",
     "text": [
      "True\n",
      "False\n"
     ]
    }
   ],
   "source": [
    "# operador and (TODAS afirmações são corretas)\n",
    "print(1 < 2 and 2 < 3)\n",
    "print(1 < 2 and 2 > 3)"
   ]
  },
  {
   "cell_type": "code",
   "execution_count": 9,
   "id": "e451128d-d86e-4efd-be39-9e232dd780f6",
   "metadata": {},
   "outputs": [
    {
     "name": "stdout",
     "output_type": "stream",
     "text": [
      "True\n",
      "True\n",
      "False\n"
     ]
    }
   ],
   "source": [
    "# operador or (pelos menos UMA afirmação é correta)\n",
    "print(1 < 2 or 2 < 3)\n",
    "print(1 < 2 or 2 > 3)\n",
    "print(1 > 2 or 2 > 3)"
   ]
  },
  {
   "cell_type": "code",
   "execution_count": 14,
   "id": "f9958aa9-9b83-4193-bc1d-39ca74ea2f81",
   "metadata": {},
   "outputs": [
    {
     "name": "stdout",
     "output_type": "stream",
     "text": [
      "False\n",
      "True\n",
      "False\n",
      "True\n"
     ]
    }
   ],
   "source": [
    "# operador not\n",
    "print(not (1 < 2 and 2 < 3) )\n",
    "print(not (1 < 2 and 2 > 3) )\n",
    "\n",
    "print(not True)\n",
    "print(not False)"
   ]
  },
  {
   "cell_type": "markdown",
   "id": "eba0b83c-5b00-47cf-909e-513c68070aad",
   "metadata": {
    "jp-MarkdownHeadingCollapsed": true
   },
   "source": [
    "## 3. Estruturas de controle de fluxo"
   ]
  },
  {
   "cell_type": "markdown",
   "id": "d87d3db6-036e-4650-980a-203920e06350",
   "metadata": {
    "jp-MarkdownHeadingCollapsed": true
   },
   "source": [
    "### Condicionais (if, elif e else)\n",
    "São estruturas que nos permite executar diferentes ações com base em alguma comparação necessária."
   ]
  },
  {
   "cell_type": "markdown",
   "id": "79987818-1d1c-4074-89e1-a379a378139e",
   "metadata": {
    "jp-MarkdownHeadingCollapsed": true
   },
   "source": [
    "#### If\n",
    "O if faz uma análise de comparação e roda um bloco de códigos APENAS se a condição for True"
   ]
  },
  {
   "cell_type": "code",
   "execution_count": 34,
   "id": "2743e2e2-9168-4676-922d-b2befbc6d7b2",
   "metadata": {},
   "outputs": [
    {
     "name": "stdout",
     "output_type": "stream",
     "text": [
      "rodando os códigos anteriores ao if\n",
      "valores iniciais: a = 1, b = 2\n",
      "essa parte do código só roda se a condição (a < b) for satisfeita\n",
      "essa parte do código roda independente do if anterior\n",
      "valores finais: a = 2 e b = 2\n"
     ]
    }
   ],
   "source": [
    "# usando o if da maneira mais simples\n",
    "a = 1\n",
    "b = 2\n",
    "print('rodando os códigos anteriores ao if')\n",
    "print('valores iniciais: a = {}, b = {}'.format(a,b))\n",
    "if a < b:\n",
    "    print('essa parte do código só roda se a condição (a < b) for satisfeita')\n",
    "    a += 1 # aumenta o valor de a em 1 unidade\n",
    "print('essa parte do código roda independente do if anterior')\n",
    "print('valores finais: a = {} e b = {}'.format(a,b))"
   ]
  },
  {
   "cell_type": "code",
   "execution_count": 35,
   "id": "d5f156cc-c688-485a-bc82-c86ce6cfd182",
   "metadata": {},
   "outputs": [
    {
     "name": "stdout",
     "output_type": "stream",
     "text": [
      "rodando os códigos anteriores ao if\n",
      "valores iniciais: a = 2, b = 2\n",
      "essa parte do código roda independente do if anterior\n",
      "valores finais: a = 2 e b = 2\n"
     ]
    }
   ],
   "source": [
    "# agora vamos rodar o código anterior novamente\n",
    "print('rodando os códigos anteriores ao if')\n",
    "print('valores iniciais: a = {}, b = {}'.format(a,b))\n",
    "if a < b:\n",
    "    print('essa parte do código só roda se a condição (a < b) for satisfeita')\n",
    "    a += 1 # aumenta o valor de a em 1 unidade\n",
    "print('essa parte do código roda independente do if anterior')\n",
    "print('valores finais: a = {} e b = {}'.format(a,b))"
   ]
  },
  {
   "cell_type": "markdown",
   "id": "a2743124-02f7-4aeb-be26-d57223a17d10",
   "metadata": {
    "jp-MarkdownHeadingCollapsed": true
   },
   "source": [
    "#### Else\n",
    "O else é utilizado apenas em conjunto com o if e roda um bloco de códigos APENAS se a condição for False"
   ]
  },
  {
   "cell_type": "code",
   "execution_count": 38,
   "id": "30bfec3f-6d1b-4a3c-8680-13a4ac8470b4",
   "metadata": {},
   "outputs": [
    {
     "name": "stdout",
     "output_type": "stream",
     "text": [
      "rodando os códigos anteriores ao if\n",
      "valores iniciais: a = 1, b = 2\n",
      "essa parte do código só roda se a condição (a < b) for satisfeita\n",
      "essa parte do código roda independente do if anterior\n",
      "valores finais: a = 2 e b = 2\n"
     ]
    }
   ],
   "source": [
    "# adicionando um bloco else ao código anterior\n",
    "a = 1\n",
    "b = 2\n",
    "print('rodando os códigos anteriores ao if')\n",
    "print('valores iniciais: a = {}, b = {}'.format(a,b))\n",
    "if a < b:\n",
    "    print('essa parte do código só roda se a condição (a < b) for satisfeita')\n",
    "    a += 1 # aumenta o valor de a em 1 unidade\n",
    "else:\n",
    "    print('essa parte do código só roda se a condição (a < b) NÃO for satisfeita')\n",
    "print('essa parte do código roda independente do if anterior')\n",
    "print('valores finais: a = {} e b = {}'.format(a,b))"
   ]
  },
  {
   "cell_type": "code",
   "execution_count": 39,
   "id": "29bc9f76-eb4b-4219-9605-c155ce006493",
   "metadata": {},
   "outputs": [
    {
     "name": "stdout",
     "output_type": "stream",
     "text": [
      "rodando os códigos anteriores ao if\n",
      "valores iniciais: a = 2, b = 2\n",
      "essa parte do código só roda se a condição (a < b) NÃO for satisfeita\n",
      "essa parte do código roda independente do if anterior\n",
      "valores finais: a = 2 e b = 2\n"
     ]
    }
   ],
   "source": [
    "# rodando novamente\n",
    "print('rodando os códigos anteriores ao if')\n",
    "print('valores iniciais: a = {}, b = {}'.format(a,b))\n",
    "if a < b:\n",
    "    print('essa parte do código só roda se a condição (a < b) for satisfeita')\n",
    "    a += 1 # aumenta o valor de a em 1 unidade\n",
    "else:\n",
    "    print('essa parte do código só roda se a condição (a < b) NÃO for satisfeita')\n",
    "print('essa parte do código roda independente do if anterior')\n",
    "print('valores finais: a = {} e b = {}'.format(a,b))"
   ]
  },
  {
   "cell_type": "markdown",
   "id": "b4ab009c-aeb2-4dba-b78d-28725c9daab3",
   "metadata": {
    "jp-MarkdownHeadingCollapsed": true
   },
   "source": [
    "#### Elif\n",
    "O elif, também é utilizado apenas em conjunto com o if, e funciona como um else if. Ou seja, se a condição do if for False, o elif avalia uma outra condição e executa um bloco de códigos APENAS se esa segunda condição for satisteita"
   ]
  },
  {
   "cell_type": "code",
   "execution_count": 44,
   "id": "f93f21d7-7d5e-4b34-a415-fd2e018405cd",
   "metadata": {},
   "outputs": [
    {
     "name": "stdout",
     "output_type": "stream",
     "text": [
      "rodando os códigos anteriores ao if\n",
      "valores iniciais: a = 1, b = 2\n",
      "essa parte do código só roda se a condição (a < b) for satisfeita\n",
      "essa parte do código roda independente do if anterior\n",
      "valores finais: a = 2 e b = 2\n"
     ]
    }
   ],
   "source": [
    "# adicionando um bloco elif ao código anterior\n",
    "a = 1\n",
    "b = 2\n",
    "print('rodando os códigos anteriores ao if')\n",
    "print('valores iniciais: a = {}, b = {}'.format(a,b))\n",
    "if a < b:\n",
    "    print('essa parte do código só roda se a condição (a < b) for satisfeita')\n",
    "    a += 1 # aumenta o valor de a em 1 unidade\n",
    "elif a == b:\n",
    "    print('essa parte do código só roda se a condição (a < b) NÃO for satisfeita e a condição (a == b) FOR satisfeita')\n",
    "    a += 1 # aumenta o valor de a em 1 unidade\n",
    "else:\n",
    "    print('essa parte do código só roda se as condições (a < b e a == b) NÃO forem satisfeitas')\n",
    "print('essa parte do código roda independente do if anterior')\n",
    "print('valores finais: a = {} e b = {}'.format(a,b))"
   ]
  },
  {
   "cell_type": "code",
   "execution_count": 45,
   "id": "dcbf66a3-5efc-4446-ae37-b1421f89cc93",
   "metadata": {},
   "outputs": [
    {
     "name": "stdout",
     "output_type": "stream",
     "text": [
      "rodando os códigos anteriores ao if\n",
      "valores iniciais: a = 2, b = 2\n",
      "essa parte do código só roda se a condição (a < b) NÃO for satisfeita e a condição (a == b) FOR satisfeita\n",
      "essa parte do código roda independente do if anterior\n",
      "valores finais: a = 3 e b = 2\n"
     ]
    }
   ],
   "source": [
    "# rodando novamente\n",
    "print('rodando os códigos anteriores ao if')\n",
    "print('valores iniciais: a = {}, b = {}'.format(a,b))\n",
    "if a < b:\n",
    "    print('essa parte do código só roda se a condição (a < b) for satisfeita')\n",
    "    a += 1 # aumenta o valor de a em 1 unidade\n",
    "elif a == b:\n",
    "    print('essa parte do código só roda se a condição (a < b) NÃO for satisfeita e a condição (a == b) FOR satisfeita')\n",
    "    a += 1 # aumenta o valor de a em 1 unidade\n",
    "else:\n",
    "    print('essa parte do código só roda se as condições (a < b e a == b) NÃO forem satisfeitas')\n",
    "print('essa parte do código roda independente do if anterior')\n",
    "print('valores finais: a = {} e b = {}'.format(a,b))"
   ]
  },
  {
   "cell_type": "code",
   "execution_count": 46,
   "id": "de7dd072-f5e3-412a-a707-30884b923c78",
   "metadata": {},
   "outputs": [
    {
     "name": "stdout",
     "output_type": "stream",
     "text": [
      "rodando os códigos anteriores ao if\n",
      "valores iniciais: a = 3, b = 2\n",
      "essa parte do código só roda se as condições (a < b e a == b) NÃO forem satisfeitas\n",
      "essa parte do código roda independente do if anterior\n",
      "valores finais: a = 3 e b = 2\n"
     ]
    }
   ],
   "source": [
    "# novamente\n",
    "print('rodando os códigos anteriores ao if')\n",
    "print('valores iniciais: a = {}, b = {}'.format(a,b))\n",
    "if a < b:\n",
    "    print('essa parte do código só roda se a condição (a < b) for satisfeita')\n",
    "    a += 1 # aumenta o valor de a em 1 unidade\n",
    "elif a == b:\n",
    "    print('essa parte do código só roda se a condição (a < b) NÃO for satisfeita e a condição (a == b) FOR satisfeita')\n",
    "    a += 1 # aumenta o valor de a em 1 unidade\n",
    "else:\n",
    "    print('essa parte do código só roda se as condições (a < b e a == b) NÃO forem satisfeitas')\n",
    "print('essa parte do código roda independente do if anterior')\n",
    "print('valores finais: a = {} e b = {}'.format(a,b))"
   ]
  },
  {
   "cell_type": "markdown",
   "id": "601a0353-a231-4c1a-a9d0-daff1a718123",
   "metadata": {
    "jp-MarkdownHeadingCollapsed": true
   },
   "source": [
    "### Laços (loops) \n",
    "Estruturas que repetem um bloco de código até ou enquanto uma condição é satis"
   ]
  },
  {
   "cell_type": "markdown",
   "id": "96f84deb-89d9-4bf4-bf0a-efa5420451ce",
   "metadata": {
    "jp-MarkdownHeadingCollapsed": true
   },
   "source": [
    "#### For"
   ]
  },
  {
   "cell_type": "markdown",
   "id": "fa36e69e-3a1a-4967-906e-09f408d8d88f",
   "metadata": {
    "jp-MarkdownHeadingCollapsed": true
   },
   "source": [
    "##### For em listas"
   ]
  },
  {
   "cell_type": "code",
   "execution_count": 64,
   "id": "a0b65ebe-5d7a-4f8f-94b5-f046cfcc7fd6",
   "metadata": {},
   "outputs": [
    {
     "name": "stdout",
     "output_type": "stream",
     "text": [
      "a\n",
      "b\n",
      "c\n",
      "d\n"
     ]
    }
   ],
   "source": [
    "# iterando sobre valores de uma lista\n",
    "lista = ['a','b','c','d']\n",
    "\n",
    "# para cada valor da lista\n",
    "for valor in lista:\n",
    "    # faça\n",
    "    print(valor)"
   ]
  },
  {
   "cell_type": "code",
   "execution_count": 65,
   "id": "cdbfcbf0-a483-4374-984e-279e8279e2cd",
   "metadata": {},
   "outputs": [
    {
     "name": "stdout",
     "output_type": "stream",
     "text": [
      "a b c d "
     ]
    }
   ],
   "source": [
    "# iterando sobre valores de uma lista, imprimindo na mesma linha\n",
    "lista = ['a','b','c','d']\n",
    "\n",
    "# para cada valor da lista\n",
    "for valor in lista:\n",
    "    # faça\n",
    "    print(valor, end = ' ')"
   ]
  },
  {
   "cell_type": "code",
   "execution_count": 68,
   "id": "7ae5233f-a788-42ec-998e-771c8109298f",
   "metadata": {},
   "outputs": [
    {
     "name": "stdout",
     "output_type": "stream",
     "text": [
      "31\n",
      "31\n"
     ]
    }
   ],
   "source": [
    "# somando os valores de uma lista utilizando o for\n",
    "lista = [3,2,8,5,9,4]\n",
    "\n",
    "# inicializando um somatorio com zero\n",
    "soma = 0\n",
    "# para cada valor na lista\n",
    "for valor in lista:\n",
    "    # faça\n",
    "    soma += valor\n",
    "print(soma)\n",
    "print(sum(lista))"
   ]
  },
  {
   "cell_type": "markdown",
   "id": "04ed7a82-a7ce-474c-828b-eb75c8fb407b",
   "metadata": {},
   "source": [
    "Pode ser útil conhecer a estrura das listas utilizadas. Por exemplo se temos uma lista de listas, podemos desembalar os valores das listas internas:"
   ]
  },
  {
   "cell_type": "code",
   "execution_count": 71,
   "id": "a34dfe81-8daf-4e99-9352-518322a28f74",
   "metadata": {},
   "outputs": [
    {
     "name": "stdout",
     "output_type": "stream",
     "text": [
      "1 2\n",
      "2 4\n",
      "5 6\n"
     ]
    }
   ],
   "source": [
    "# criando uma lista de listas\n",
    "lista = [[1,2],[2,4],[5,6]]\n",
    "# para cada valores a e b das listas\n",
    "for [a, b] in lista:\n",
    "    print(a,b)"
   ]
  },
  {
   "cell_type": "code",
   "execution_count": 74,
   "id": "b9d7f427-82f7-4747-9fcc-ff59a251425c",
   "metadata": {},
   "outputs": [
    {
     "name": "stdout",
     "output_type": "stream",
     "text": [
      "3\n",
      "6\n",
      "11\n"
     ]
    }
   ],
   "source": [
    "# imprimindo a soma dos valores das listas internas\n",
    "lista = [[1,2],[2,4],[5,6]]\n",
    "# para cada valores a e b das listas\n",
    "for [a, b] in lista:\n",
    "    print(a+b)"
   ]
  },
  {
   "cell_type": "markdown",
   "id": "53a602a1-6e2d-44d2-8a45-ed158f913be4",
   "metadata": {},
   "source": [
    "Também podemos utilizar as list comprehension com essa lógica, para criar uma lista com a soma dos valores das listas"
   ]
  },
  {
   "cell_type": "code",
   "execution_count": 70,
   "id": "22b2dcc1-b26f-4cd5-a02e-a665a8affbad",
   "metadata": {},
   "outputs": [
    {
     "data": {
      "text/plain": [
       "[3, 6, 11]"
      ]
     },
     "execution_count": 70,
     "metadata": {},
     "output_type": "execute_result"
    }
   ],
   "source": [
    "soma_listas = [a+b for [a,b] in lista]\n",
    "soma_listas"
   ]
  },
  {
   "cell_type": "markdown",
   "id": "85a0c4dd-db91-42a8-8faf-c61a0c952f2c",
   "metadata": {
    "jp-MarkdownHeadingCollapsed": true
   },
   "source": [
    "##### For em string"
   ]
  },
  {
   "cell_type": "markdown",
   "id": "216d84bb-62be-4d51-8f26-ae5041970a7f",
   "metadata": {},
   "source": [
    "O for também pode ser utilizado para iterar sobre strings."
   ]
  },
  {
   "cell_type": "code",
   "execution_count": 76,
   "id": "45e14984-0118-4995-9eaf-2cc1ddc8b6b7",
   "metadata": {},
   "outputs": [
    {
     "name": "stdout",
     "output_type": "stream",
     "text": [
      "U\n",
      "m\n",
      " \n",
      "e\n",
      "x\n",
      "e\n",
      "m\n",
      "p\n",
      "l\n",
      "o\n"
     ]
    }
   ],
   "source": [
    "# imprimindo uma string com for\n",
    "string = 'Um exemplo'\n",
    "for letra in string:\n",
    "    print(letra)"
   ]
  },
  {
   "cell_type": "code",
   "execution_count": 79,
   "id": "8b6db537-f191-47d5-87a6-e50a41f71a17",
   "metadata": {},
   "outputs": [
    {
     "name": "stdout",
     "output_type": "stream",
     "text": [
      "Um exemplo"
     ]
    }
   ],
   "source": [
    "# imprimindo uma strng com for na mesma linha:\n",
    "string = 'Um exemplo'\n",
    "for letra in string:\n",
    "    print(letra, end = '')"
   ]
  },
  {
   "cell_type": "code",
   "execution_count": 87,
   "id": "0a5ccd21-01ca-49c4-ad1d-2144249680d7",
   "metadata": {},
   "outputs": [
    {
     "name": "stdout",
     "output_type": "stream",
     "text": [
      "Um exemplo"
     ]
    }
   ],
   "source": [
    "# imprimindo uma string com for, na mesma linha, usando uma pausa\n",
    "import time\n",
    "\n",
    "string = 'Um exemplo'\n",
    "for letra in string:\n",
    "    print(letra, end = '')\n",
    "    time.sleep(.3)  # esperando .2 segundos antes de executar a próxima linha"
   ]
  },
  {
   "cell_type": "markdown",
   "id": "232c666c-729b-475b-9b50-ff09fda69eec",
   "metadata": {
    "jp-MarkdownHeadingCollapsed": true
   },
   "source": [
    "##### For em tuplas\n",
    "O uso do for em tuplas é o mesmo como nas listas e também pode ser usado para desembalar tuplas de tuplas."
   ]
  },
  {
   "cell_type": "code",
   "execution_count": 89,
   "id": "4fb11768-51b9-4c5a-98d3-9907564dafe9",
   "metadata": {},
   "outputs": [
    {
     "name": "stdout",
     "output_type": "stream",
     "text": [
      "0\n",
      "1\n",
      "2\n",
      "3\n"
     ]
    }
   ],
   "source": [
    "# imprimindo uma tupla\n",
    "tup = (0,1,2,3)\n",
    "for valor in tup:\n",
    "    print(valor)"
   ]
  },
  {
   "cell_type": "code",
   "execution_count": 90,
   "id": "608ee83b-bc2b-422e-8e71-c338c67cbcdd",
   "metadata": {},
   "outputs": [
    {
     "name": "stdout",
     "output_type": "stream",
     "text": [
      "(0, 1)\n",
      "(2, 3)\n",
      "(4, 5)\n"
     ]
    }
   ],
   "source": [
    "# imprimindo tuplas de uma tupla\n",
    "tup = ((0,1),(2,3),(4,5))\n",
    "for valor in tup:\n",
    "    print(valor)"
   ]
  },
  {
   "cell_type": "code",
   "execution_count": 91,
   "id": "cd251c74-2eda-48e8-af96-fe6acf204587",
   "metadata": {},
   "outputs": [
    {
     "name": "stdout",
     "output_type": "stream",
     "text": [
      "0 1\n",
      "2 3\n",
      "4 5\n"
     ]
    }
   ],
   "source": [
    "# imprimindo valores desembalados de tuplas de uma tupla\n",
    "tup = ((0,1),(2,3),(4,5))\n",
    "for (a,b) in tup:\n",
    "    print(a,b)"
   ]
  },
  {
   "cell_type": "code",
   "execution_count": 92,
   "id": "ab7a87cd-eebf-4edb-8d30-9a4b7afb5e87",
   "metadata": {},
   "outputs": [
    {
     "name": "stdout",
     "output_type": "stream",
     "text": [
      "1\n",
      "5\n",
      "9\n"
     ]
    }
   ],
   "source": [
    "# imprimindo a soma de valores desembalados de tuplas de uma tupla\n",
    "tup = ((0,1),(2,3),(4,5))\n",
    "for (a,b) in tup:\n",
    "    print(a+b)"
   ]
  },
  {
   "cell_type": "markdown",
   "id": "601186c1-4388-4796-8143-3c2989dddf5f",
   "metadata": {},
   "source": [
    "E, da mesma forma, também podemos usar as lists comprehension com as tuplas"
   ]
  },
  {
   "cell_type": "code",
   "execution_count": 97,
   "id": "e44c43f0-ff68-422c-b301-bd6f23cf1b96",
   "metadata": {},
   "outputs": [
    {
     "data": {
      "text/plain": [
       "[1, 5, 9]"
      ]
     },
     "execution_count": 97,
     "metadata": {},
     "output_type": "execute_result"
    }
   ],
   "source": [
    "# criando uma lista com a soma dos valores das tuplas de uma tupla\n",
    "tup = ((0,1),(2,3),(4,5))\n",
    "lista = [a + b for a,b in tup]\n",
    "lista"
   ]
  },
  {
   "cell_type": "code",
   "execution_count": 101,
   "id": "b8813bd7-f301-4d2b-9a3e-44019fe6cdb5",
   "metadata": {},
   "outputs": [
    {
     "data": {
      "text/plain": [
       "(1, 5, 9)"
      ]
     },
     "execution_count": 101,
     "metadata": {},
     "output_type": "execute_result"
    }
   ],
   "source": [
    "# transformando a lista em tupla novamente\n",
    "tup = ((0,1),(2,3),(4,5))\n",
    "lista = [a + b for a,b in tup]\n",
    "tup_soma = tuple(lista)\n",
    "tup_soma"
   ]
  },
  {
   "cell_type": "markdown",
   "id": "370d136d-f373-4870-8b60-01fc933bd114",
   "metadata": {
    "jp-MarkdownHeadingCollapsed": true
   },
   "source": [
    "##### For em dicionários\n",
    "Assim como as listas de listas (e tuplas de tuplas) os dicionários também tem características especiais dentro de loops for."
   ]
  },
  {
   "cell_type": "code",
   "execution_count": 102,
   "id": "249e965a-232c-4a83-8f90-4c5b7234bd30",
   "metadata": {},
   "outputs": [
    {
     "name": "stdout",
     "output_type": "stream",
     "text": [
      "chave1\n",
      "chave2\n"
     ]
    }
   ],
   "source": [
    "# imprimendo chaves (keys) de um dicionário com o for\n",
    "dic = {'chave1':1, 'chave2':2}\n",
    "for chave in dic:\n",
    "    print(chave)"
   ]
  },
  {
   "cell_type": "code",
   "execution_count": 104,
   "id": "b0915065-1260-46f5-b559-1ff1df7fb0ce",
   "metadata": {},
   "outputs": [
    {
     "name": "stdout",
     "output_type": "stream",
     "text": [
      "chave1 1\n",
      "chave2 2\n"
     ]
    }
   ],
   "source": [
    "# para iterar sobre chaves e valores precisamos usar o método .items() dos dicionários\n",
    "for chave, valor in dic.items():\n",
    "    print(chave,valor)"
   ]
  },
  {
   "cell_type": "code",
   "execution_count": 107,
   "id": "ec98354c-8084-4ce6-8258-b0474f958866",
   "metadata": {},
   "outputs": [
    {
     "name": "stdout",
     "output_type": "stream",
     "text": [
      "1\n",
      "2\n"
     ]
    }
   ],
   "source": [
    "# também podemos iterar diretamente sobre valores usando o método .values()\n",
    "for valor in dic.values():\n",
    "    print(valor)"
   ]
  },
  {
   "cell_type": "markdown",
   "id": "5a0f0242-4215-4474-b7c6-bbd5532250ac",
   "metadata": {
    "jp-MarkdownHeadingCollapsed": true
   },
   "source": [
    "#### While\n",
    "O loop while é um iterador que executa um bloco de código enquanto uma condição é satisfeita."
   ]
  },
  {
   "cell_type": "code",
   "execution_count": 111,
   "id": "b067f9fe-ac79-44fa-9734-9b0cfc03ac8d",
   "metadata": {},
   "outputs": [
    {
     "name": "stdout",
     "output_type": "stream",
     "text": [
      "esse é um código executado antes do while\n",
      "o número de iterações executadas é: 1\n",
      "o número de iterações executadas é: 2\n",
      "o número de iterações executadas é: 3\n",
      "o número de iterações executadas é: 4\n",
      "o número de iterações executadas é: 5\n",
      "o número de iterações executadas é: 6\n",
      "o número de iterações executadas é: 7\n",
      "o número de iterações executadas é: 8\n",
      "o número de iterações executadas é: 9\n",
      "o número de iterações executadas é: 10\n",
      "esse é um código executado DEPOIS do while\n"
     ]
    }
   ],
   "source": [
    "# um caso simples\n",
    "print('esse é um código executado antes do while')\n",
    "count = 0 # contador de iterações\n",
    "# enquanto o número de iterações for menor que 10\n",
    "while count < 10:\n",
    "    # faça\n",
    "    count += 1\n",
    "    print('o número de iterações executadas é: {}'.format(count))\n",
    "\n",
    "print('esse é um código executado DEPOIS do while')"
   ]
  },
  {
   "cell_type": "code",
   "execution_count": 113,
   "id": "c995c090-5776-4c2f-825f-95ec013177bc",
   "metadata": {},
   "outputs": [
    {
     "name": "stdout",
     "output_type": "stream",
     "text": [
      "esse é um código executado antes do while\n",
      "o número de iterações executadas é: 1\n",
      "o número de iterações executadas é: 2\n",
      "o número de iterações executadas é: 3\n",
      "o número de iterações executadas é: 4\n",
      "o número de iterações executadas é: 5\n",
      "o número de iterações executadas é: 6\n",
      "o número de iterações executadas é: 7\n",
      "o número de iterações executadas é: 8\n",
      "o número de iterações executadas é: 9\n",
      "o número de iterações executadas é: 10\n",
      "esse é um código que só será executado quando a condição não for satisfeita\n",
      "número de iterações realizadas: 10\n",
      "esse é um código executado DEPOIS do while\n"
     ]
    }
   ],
   "source": [
    "# também é possível adicionar um else no while, que pode ser útil em alguns casos\n",
    "print('esse é um código executado antes do while')\n",
    "count = 0 # contador de iterações\n",
    "# enquanto o número de iterações for menor que 10\n",
    "while count < 10:\n",
    "    # faça\n",
    "    count += 1\n",
    "    print('o número de iterações executadas é: {}'.format(count))\n",
    "else:\n",
    "    print('esse é um código que só será executado quando a condição não for satisfeita')\n",
    "    print('número de iterações realizadas: {}'.format(count))\n",
    "\n",
    "print('esse é um código executado DEPOIS do while')"
   ]
  },
  {
   "cell_type": "markdown",
   "id": "7a0d2f5f-4639-48e2-b4f5-b9ca848d13dd",
   "metadata": {
    "jp-MarkdownHeadingCollapsed": true
   },
   "source": [
    "### Declarações especiais (break, continue, pass)\n",
    "Expressões utilizadas para casos especiais:\n",
    "- Break: encerra o loop\n",
    "- Continue: vai para o próximo loop\n",
    "- Pass: não faz nada"
   ]
  },
  {
   "cell_type": "code",
   "execution_count": 125,
   "id": "151b5c1e-4319-4798-b297-ab2d891ebfb3",
   "metadata": {},
   "outputs": [
    {
     "name": "stdout",
     "output_type": "stream",
     "text": [
      "a iteração é ímpar\n",
      "o número de iterações é: 1\n",
      "a iteração é par, vamos continuar para o próximo loop\n",
      "a iteração é ímpar\n",
      "o número de iterações é: 3\n",
      "a iteração é par, vamos continuar para o próximo loop\n",
      "a iteração é ímpar\n",
      "o número de iterações é: 5\n",
      "a iteração é par, vamos continuar para o próximo loop\n",
      "a iteração é ímpar\n",
      "o número de iterações é: 7\n",
      "a iteração é par, vamos continuar para o próximo loop\n",
      "a iteração é ímpar\n",
      "o número de iterações é: 9\n",
      "a iteração é par, vamos continuar para o próximo loop\n"
     ]
    }
   ],
   "source": [
    "# não queremos executar nenhum bloco quando a iteração for par\n",
    "count = 0\n",
    "# enquanto o número de iterações for menor do que 10\n",
    "while count < 10:\n",
    "    # contabilizando mais uma iteração\n",
    "    count += 1\n",
    "    # se o número não for par\n",
    "    if count % 2:\n",
    "        print('a iteração é ímpar')\n",
    "        print('o número de iterações é: {}'.format(count))\n",
    "    else:\n",
    "        print('a iteração é par, vamos continuar para o próximo loop')\n",
    "        continue"
   ]
  },
  {
   "cell_type": "code",
   "execution_count": 120,
   "id": "c2598431-7ef7-43ff-b0e0-b620cdeb9bc0",
   "metadata": {},
   "outputs": [
    {
     "name": "stdout",
     "output_type": "stream",
     "text": [
      "False\n"
     ]
    }
   ],
   "source": [
    "# entendendo o código anterior\n",
    "# se o count for par, o módulo será 0 (mesma leitura de False)\n",
    "count = 4\n",
    "if count % 2:\n",
    "    print('True')\n",
    "else:\n",
    "    print('False')"
   ]
  },
  {
   "cell_type": "code",
   "execution_count": 126,
   "id": "c6a547ef-be84-484d-9268-b5c2eb5a4011",
   "metadata": {},
   "outputs": [
    {
     "name": "stdout",
     "output_type": "stream",
     "text": [
      "True\n"
     ]
    }
   ],
   "source": [
    "# se o count for ímpar, o módulo será > 0 (mesma leitura de True)\n",
    "count = 5\n",
    "if count % 2:\n",
    "    print('True')\n",
    "else:\n",
    "    print('False')"
   ]
  },
  {
   "cell_type": "code",
   "execution_count": 3,
   "id": "3d228f50-cf64-4014-932b-5d009158ecea",
   "metadata": {},
   "outputs": [
    {
     "name": "stdout",
     "output_type": "stream",
     "text": [
      "iteração 0: a iteração é par, não fazemos nada aqui\n",
      "iteração 1: a iteração é ímpar, a nova soma é: 2\n",
      "iteração 2: a iteração é par, não fazemos nada aqui\n",
      "iteração 3: a iteração é ímpar, a nova soma é: 6\n",
      "iteração 4: a iteração é par, não fazemos nada aqui\n",
      "iteração 5: a iteração é ímpar, a nova soma é: 12\n",
      "iteração 6: a iteração é par, não fazemos nada aqui\n",
      "iteração 7: a iteração é ímpar, a nova soma é: 20\n",
      "iteração 8: a iteração é par, não fazemos nada aqui\n",
      "iteração 9: a iteração é ímpar, a nova soma é: 30\n",
      "bloco de código executado após o loop\n"
     ]
    }
   ],
   "source": [
    "# queremos somar os valores de uma lista, mas não queremos executar mais do 10 iterações\n",
    "# e só queremos fazer somas em iterações ímpares\n",
    "lista = [1,2,3,4,5,6,7,8,9,10,11,12,13,14,15,16,17,18,19,20,21,22,23]\n",
    "\n",
    "# inicializando a soma\n",
    "soma = 0\n",
    "# inicializando o contador\n",
    "count = 0\n",
    "# enquanto o número de iterações for menor do que 10\n",
    "while count < 10:\n",
    "    # se o número for ímpar\n",
    "    if count % 2:\n",
    "        # acionamos o valor da lista na soma\n",
    "        soma += lista[count]\n",
    "        print('iteração {}: a iteração é ímpar, a nova soma é: {}'.format(count,soma))\n",
    "    else:\n",
    "        # se for par, não fazemos nada\n",
    "        print('iteração {}: a iteração é par, não fazemos nada aqui'.format(count))\n",
    "        pass\n",
    "    # encerrando o loop quando as iterações ultrapassar o limite\n",
    "    if count > 10:\n",
    "        print('iteração {}: já realizamos 10 iterações, encerrando o loop'.format(count))\n",
    "        print('hu')\n",
    "        break\n",
    "\n",
    "    # contabilizando mais uma iteração\n",
    "    count += 1\n",
    "    \n",
    "print('bloco de código executado após o loop')"
   ]
  },
  {
   "cell_type": "markdown",
   "id": "c4a81f2d-aea0-47d4-82b9-0bde1b1a6f60",
   "metadata": {},
   "source": [
    "## 5. Funções\n",
    "Funções agrupam um conjunto de instruções para serem \"reciclados\". Podem receber informações de entrada (parâmetros) e podem retornar um ou mais valores (ou objetos) na saída.\n",
    "\n",
    "Para declarar (construir) uma função, utilizaremos o \"def\"."
   ]
  },
  {
   "cell_type": "markdown",
   "id": "51884dc2-ec00-4555-a872-3bf642c23510",
   "metadata": {
    "jp-MarkdownHeadingCollapsed": true
   },
   "source": [
    "### Básico"
   ]
  },
  {
   "cell_type": "code",
   "execution_count": 5,
   "id": "844a28a3-cc4d-4ed4-b354-5b75c4610eb1",
   "metadata": {},
   "outputs": [
    {
     "name": "stdout",
     "output_type": "stream",
     "text": [
      "8\n"
     ]
    }
   ],
   "source": [
    "# criando uma função simples de soma\n",
    "def soma(valor1, valor2):\n",
    "    '''\n",
    "    Espaço reservado para a documentação da função.\n",
    "    valor1 (int ou float)\n",
    "    valor2 (int ou float)\n",
    "    return soma (float)\n",
    "    '''\n",
    "    result = valor1 + valor2\n",
    "    return result\n",
    "\n",
    "# testando\n",
    "print(soma(3,5))"
   ]
  },
  {
   "cell_type": "markdown",
   "id": "589440a0-e746-46c9-9ecd-cfe6c42fa04d",
   "metadata": {},
   "source": [
    "É importante notar que as função não modificam os valores das variáveis (exceto em casos especiais de declaração global). Então, quando esperado algum valor de saída, ele deve ser declarado com o return."
   ]
  },
  {
   "cell_type": "code",
   "execution_count": 9,
   "id": "e03360f1-9486-4a4b-9bc2-c1b9b75d76bf",
   "metadata": {},
   "outputs": [
    {
     "name": "stdout",
     "output_type": "stream",
     "text": [
      "O resultado da função é: 12\n",
      "Os valores de entrada permanecem os mesmo. valor1: 2. valor2: 3\n"
     ]
    }
   ],
   "source": [
    "# vamos criar uma função que retorne a multiplição de dois números modificados: (x+1)*(y+1)\n",
    "def mult_mod(valor1,valor2):\n",
    "    valor1 += 1\n",
    "    valor2 += 1\n",
    "    result = valor1 * valor2\n",
    "    return result\n",
    "\n",
    "# declarando valores\n",
    "valor1 = 2\n",
    "valor2 = 3\n",
    "\n",
    "print('O resultado da função é: {}'.format(mult_mod(valor1,valor2)))\n",
    "print('Os valores de entrada permanecem os mesmo. valor1: {}. valor2: {}'.format(valor1,valor2))"
   ]
  },
  {
   "cell_type": "markdown",
   "id": "9705768c-8fb9-4da8-bbae-1cbb1ceb625e",
   "metadata": {},
   "source": [
    "Os nomes das variáveis não precisam ser os mesmo:"
   ]
  },
  {
   "cell_type": "code",
   "execution_count": 11,
   "id": "dca210ab-7297-4cab-8a7e-a9187fbd9a2f",
   "metadata": {},
   "outputs": [
    {
     "name": "stdout",
     "output_type": "stream",
     "text": [
      "O resultado da função é: 12\n"
     ]
    }
   ],
   "source": [
    "# declarando valores\n",
    "a = 2\n",
    "b = 3\n",
    "\n",
    "print('O resultado da função é: {}'.format(mult_mod(a,b)))"
   ]
  },
  {
   "cell_type": "markdown",
   "id": "beafae16-cbf6-4305-b416-5f9b87fe577c",
   "metadata": {},
   "source": [
    "Também podemos retornar mais de um valor, ou diferentes objetos. Vamos contruir uma função que retorne uma lista com os valores de entrada, a soma e a multiplicação desses valores."
   ]
  },
  {
   "cell_type": "code",
   "execution_count": 12,
   "id": "a360e380-fcdd-4b25-8fd1-72563f3c28d9",
   "metadata": {},
   "outputs": [
    {
     "name": "stdout",
     "output_type": "stream",
     "text": [
      "A lista de saída é: [2, 3]\n",
      "A soma de saída é: 5\n",
      "A multiplicação de saída é: 6\n"
     ]
    }
   ],
   "source": [
    "# declarando a função\n",
    "def som_mult(valor1,valor2):\n",
    "    lista = [valor1,valor2]\n",
    "    soma = valor1 + valor2\n",
    "    mult = valor1 * valor2\n",
    "    return lista, soma, mult\n",
    "\n",
    "lista_resultado, soma_resultado, mult_resultado = som_mult(2,3)\n",
    "print('A lista de saída é: {}'.format(lista_resultado))\n",
    "print('A soma de saída é: {}'.format(soma_resultado))\n",
    "print('A multiplicação de saída é: {}'.format(mult_resultado))"
   ]
  },
  {
   "cell_type": "markdown",
   "id": "6e64c633-b0a2-4f74-9610-6897d09f786f",
   "metadata": {},
   "source": [
    "### Variáveis globais\n",
    "Para declarar e modificar uma variável global em Python dentro de uma função sem precisar retorná-la, podemos utilizar a declaração \"global\","
   ]
  },
  {
   "cell_type": "code",
   "execution_count": 13,
   "id": "8a2b72c7-007c-44ce-bec4-763a401267fd",
   "metadata": {},
   "outputs": [
    {
     "name": "stdout",
     "output_type": "stream",
     "text": [
      "Valor da variável antes de executar a função: 0\n",
      "Valor da variável depois de executar a função: 1\n"
     ]
    }
   ],
   "source": [
    "var_global = 0\n",
    "\n",
    "def modifica_var_global():\n",
    "    global var_global\n",
    "    var_global += 1\n",
    "\n",
    "print('Valor da variável antes de executar a função: {}'.format(var_global))\n",
    "# rodando a função \n",
    "modifica_var_global()\n",
    "print('Valor da variável depois de executar a função: {}'.format(var_global))"
   ]
  },
  {
   "cell_type": "code",
   "execution_count": 14,
   "id": "a61ab5b4-51e1-403b-9446-36de65ca6f9d",
   "metadata": {},
   "outputs": [
    {
     "name": "stdout",
     "output_type": "stream",
     "text": [
      "Valor da variável antes de executar a função: 1\n",
      "Valor da variável depois de executar a função: 2\n"
     ]
    }
   ],
   "source": [
    "# executando novamente\n",
    "print('Valor da variável antes de executar a função: {}'.format(var_global))\n",
    "# rodando a função \n",
    "modifica_var_global()\n",
    "print('Valor da variável depois de executar a função: {}'.format(var_global))"
   ]
  },
  {
   "cell_type": "markdown",
   "id": "45bad64e-5de1-4613-8800-f6770454ce19",
   "metadata": {},
   "source": [
    "Note, que neste caso, não precisamos adicionar parâmetros nem nada a retornar. Mas podemos utilizar todos esses elementos em conjunto"
   ]
  },
  {
   "cell_type": "code",
   "execution_count": 17,
   "id": "25b82673-3166-4018-8749-4a99593fd20c",
   "metadata": {},
   "outputs": [
    {
     "name": "stdout",
     "output_type": "stream",
     "text": [
      "Valor da variável antes de executar a função: 10\n",
      "Valor da variável depois de executar a função: 12\n",
      "Valor de saída da função (soma dos dois últimos valores da variável global): 22\n"
     ]
    }
   ],
   "source": [
    "var_global = 10\n",
    "\n",
    "def modifica_var_global(valor_add):\n",
    "    global var_global\n",
    "    # salvando o valor inicial da var_global\n",
    "    var_global_atual = var_global\n",
    "\n",
    "    # atualizando o valor da variável global\n",
    "    var_global += valor_add\n",
    "\n",
    "    # retornando a soma do valor anterior com o atual\n",
    "    return var_global_atual + var_global\n",
    "\n",
    "print('Valor da variável antes de executar a função: {}'.format(var_global))\n",
    "# rodando a função \n",
    "resultado = modifica_var_global(2)\n",
    "print('Valor da variável depois de executar a função: {}'.format(var_global))\n",
    "print('Valor de saída da função (soma dos dois últimos valores da variável global): {}'.format(resultado))"
   ]
  },
  {
   "cell_type": "markdown",
   "id": "d464660c-872a-4416-8b32-db8c6f679438",
   "metadata": {
    "jp-MarkdownHeadingCollapsed": true
   },
   "source": [
    "## 6. Usando as estruturas em conjunto\n",
    "As estruturas podem (e devem) ser utilizadas em conjunto para iterar sobre objetos e executar ações apenas em determinados condições, por exemplo."
   ]
  },
  {
   "cell_type": "markdown",
   "id": "37863271-ffc3-477c-82b2-a8c6cec50aea",
   "metadata": {},
   "source": [
    "### For + if/elif/else\n",
    "Suponha que você queira avaliar notas que variam de 0 a 10. \n",
    "- Nota ótima = 9 a 10\n",
    "- Nota boa = 7 a 8\n",
    "- Nota ruim = 0 a 6"
   ]
  },
  {
   "cell_type": "code",
   "execution_count": 61,
   "id": "e465e2ab-3947-4d57-8ce1-872754647b95",
   "metadata": {},
   "outputs": [
    {
     "name": "stdout",
     "output_type": "stream",
     "text": [
      "1: a nota é ruim\n",
      "2: a nota é ruim\n",
      "3: a nota é ruim\n",
      "4: a nota é ruim\n",
      "5: a nota é ruim\n",
      "6: a nota é ruim\n",
      "7: a nota é boa\n",
      "8: a nota é boa\n",
      "9: a nota é ótima\n",
      "10: a nota é ótima\n"
     ]
    }
   ],
   "source": [
    "for i in range(1,11):\n",
    "    if i < 7:\n",
    "        print('{}: a nota é ruim'.format(i))\n",
    "    elif i > 8:\n",
    "        print('{}: a nota é ótima'.format(i))\n",
    "    else:\n",
    "        print('{}: a nota é boa'.format(i))"
   ]
  },
  {
   "cell_type": "markdown",
   "id": "2da7b288-6c06-4bb0-8aa9-bf51637aede6",
   "metadata": {
    "jp-MarkdownHeadingCollapsed": true
   },
   "source": [
    "## 7. Algumas funções úteis"
   ]
  },
  {
   "cell_type": "markdown",
   "id": "d38647d3-0594-4e9a-8eeb-43bee3fc1d30",
   "metadata": {},
   "source": [
    "### Input\n",
    "Método built-in para coletar dados do usuário"
   ]
  },
  {
   "cell_type": "code",
   "execution_count": 18,
   "id": "539d525a-f829-414e-a33e-9e552a5b44f0",
   "metadata": {},
   "outputs": [
    {
     "name": "stdin",
     "output_type": "stream",
     "text": [
      "Qual o seu nome? Nathália\n"
     ]
    }
   ],
   "source": [
    "# lendo o nome do usuário\n",
    "nome = input('Qual o seu nome?')"
   ]
  },
  {
   "cell_type": "code",
   "execution_count": 20,
   "id": "490375d4-4598-4ec3-8d1c-15beb3a3bfb0",
   "metadata": {},
   "outputs": [
    {
     "name": "stdout",
     "output_type": "stream",
     "text": [
      "O nome é Nathália\n"
     ]
    }
   ],
   "source": [
    "print('O nome é {}'.format(nome))"
   ]
  },
  {
   "cell_type": "markdown",
   "id": "9d56f730-3edb-45eb-8dd2-1b1c18f704d9",
   "metadata": {
    "jp-MarkdownHeadingCollapsed": true
   },
   "source": [
    "### Convertendo dados (int, float, str)"
   ]
  },
  {
   "cell_type": "code",
   "execution_count": 21,
   "id": "eb668d4c-2121-4a92-9bc2-753a558efbb0",
   "metadata": {},
   "outputs": [
    {
     "name": "stdout",
     "output_type": "stream",
     "text": [
      "<class 'str'>\n",
      "<class 'int'>\n"
     ]
    }
   ],
   "source": [
    "# convertendo uma entrada em str para int\n",
    "a = '34'\n",
    "print(type(a))\n",
    "a = int(a)\n",
    "print(type(a))"
   ]
  },
  {
   "cell_type": "code",
   "execution_count": 24,
   "id": "befd833d-a20e-4fb7-8184-c44377ceb90e",
   "metadata": {},
   "outputs": [
    {
     "ename": "ValueError",
     "evalue": "invalid literal for int() with base 10: '34.1'",
     "output_type": "error",
     "traceback": [
      "\u001b[1;31m---------------------------------------------------------------------------\u001b[0m",
      "\u001b[1;31mValueError\u001b[0m                                Traceback (most recent call last)",
      "Cell \u001b[1;32mIn[24], line 3\u001b[0m\n\u001b[0;32m      1\u001b[0m \u001b[38;5;66;03m# nao consegue converter se não for um inteiro\u001b[39;00m\n\u001b[0;32m      2\u001b[0m a \u001b[38;5;241m=\u001b[39m \u001b[38;5;124m'\u001b[39m\u001b[38;5;124m34.1\u001b[39m\u001b[38;5;124m'\u001b[39m\n\u001b[1;32m----> 3\u001b[0m b \u001b[38;5;241m=\u001b[39m \u001b[38;5;28mint\u001b[39m(a)\n\u001b[0;32m      4\u001b[0m \u001b[38;5;28mprint\u001b[39m(b)\n",
      "\u001b[1;31mValueError\u001b[0m: invalid literal for int() with base 10: '34.1'"
     ]
    }
   ],
   "source": [
    "# nao consegue converter se não for um inteiro\n",
    "a = '34.1'\n",
    "b = int(a)\n",
    "print(b)"
   ]
  },
  {
   "cell_type": "code",
   "execution_count": 26,
   "id": "2cf395fd-27bf-4c9b-93ad-f6ba88c01d8c",
   "metadata": {},
   "outputs": [
    {
     "name": "stdout",
     "output_type": "stream",
     "text": [
      "34.1\n"
     ]
    }
   ],
   "source": [
    "# usando o floa\n",
    "b = float(a)\n",
    "print(b)"
   ]
  },
  {
   "cell_type": "code",
   "execution_count": 27,
   "id": "e45cc460-c67b-4c2c-af82-b266b77e68ea",
   "metadata": {},
   "outputs": [
    {
     "name": "stdout",
     "output_type": "stream",
     "text": [
      "34.5\n"
     ]
    }
   ],
   "source": [
    "# transformando número em strings\n",
    "num = 34.5\n",
    "num_str = str(num)\n",
    "print(num_str)"
   ]
  },
  {
   "cell_type": "code",
   "execution_count": 28,
   "id": "7973a5f2-8e29-415f-9080-ca0a727daf35",
   "metadata": {},
   "outputs": [
    {
     "data": {
      "text/plain": [
       "str"
      ]
     },
     "execution_count": 28,
     "metadata": {},
     "output_type": "execute_result"
    }
   ],
   "source": [
    "type(num_str)"
   ]
  },
  {
   "cell_type": "code",
   "execution_count": 29,
   "id": "775b9efe-b67f-4385-8596-1926f801f521",
   "metadata": {},
   "outputs": [
    {
     "ename": "TypeError",
     "evalue": "can only concatenate str (not \"float\") to str",
     "output_type": "error",
     "traceback": [
      "\u001b[1;31m---------------------------------------------------------------------------\u001b[0m",
      "\u001b[1;31mTypeError\u001b[0m                                 Traceback (most recent call last)",
      "Cell \u001b[1;32mIn[29], line 2\u001b[0m\n\u001b[0;32m      1\u001b[0m \u001b[38;5;66;03m# não podemos concatenar um número com uma string\u001b[39;00m\n\u001b[1;32m----> 2\u001b[0m texto \u001b[38;5;241m=\u001b[39m \u001b[38;5;124m'\u001b[39m\u001b[38;5;124mo número é: \u001b[39m\u001b[38;5;124m'\u001b[39m \u001b[38;5;241m+\u001b[39m num\n",
      "\u001b[1;31mTypeError\u001b[0m: can only concatenate str (not \"float\") to str"
     ]
    }
   ],
   "source": [
    "# não podemos concatenar um número com uma string\n",
    "texto = 'o número é: ' + num"
   ]
  },
  {
   "cell_type": "code",
   "execution_count": 30,
   "id": "493c5da6-f726-4686-89b3-cc0e4372070c",
   "metadata": {},
   "outputs": [
    {
     "name": "stdout",
     "output_type": "stream",
     "text": [
      "o número é: 34.5\n"
     ]
    }
   ],
   "source": [
    "# mas podemos concatenar com o número transformado em string\n",
    "texto = 'o número é: ' + num_str\n",
    "print(texto)"
   ]
  },
  {
   "cell_type": "markdown",
   "id": "923f27c5-7c9f-4e62-8f32-9e1bf1a500fd",
   "metadata": {
    "jp-MarkdownHeadingCollapsed": true
   },
   "source": [
    "### Range"
   ]
  },
  {
   "cell_type": "markdown",
   "id": "1514f656-ae8a-43ab-926e-1b3af394c9b6",
   "metadata": {},
   "source": [
    "A função range() facilita o uso de loops, cria um gerador de números que varia de um valor até outro com passos de tamanho desejado.\n",
    "\n",
    "O valor inicial está incluído na lista e o final é excluído (assim como os recortes de strings, listas, etc.).\n",
    "\n",
    "A sintaxe da função é range(início, fim, passo)"
   ]
  },
  {
   "cell_type": "code",
   "execution_count": 31,
   "id": "aaa4d963-10f3-41aa-83a4-c6dde6cc982e",
   "metadata": {},
   "outputs": [
    {
     "data": {
      "text/plain": [
       "range(0, 10)"
      ]
     },
     "execution_count": 31,
     "metadata": {},
     "output_type": "execute_result"
    }
   ],
   "source": [
    "# o range em si não cria uma lista (ou outro objeto com esses valores)\n",
    "# ele cria um gerador\n",
    "range(10)"
   ]
  },
  {
   "cell_type": "code",
   "execution_count": 32,
   "id": "170183b9-7509-44f1-a6e1-22b407575287",
   "metadata": {},
   "outputs": [
    {
     "data": {
      "text/plain": [
       "range"
      ]
     },
     "execution_count": 32,
     "metadata": {},
     "output_type": "execute_result"
    }
   ],
   "source": [
    "type(range(10))"
   ]
  },
  {
   "cell_type": "code",
   "execution_count": 53,
   "id": "d1671268-3a72-4565-b794-f2bccf6b3497",
   "metadata": {},
   "outputs": [
    {
     "data": {
      "text/plain": [
       "[0, 1, 2, 3, 4, 5, 6, 7, 8, 9]"
      ]
     },
     "execution_count": 53,
     "metadata": {},
     "output_type": "execute_result"
    }
   ],
   "source": [
    "# devemos criar uma lista com esse gerador\n",
    "# criando uma lista que varia de 0 a 10, de 1 em 1\n",
    "lista = list(range(10))\n",
    "lista"
   ]
  },
  {
   "cell_type": "code",
   "execution_count": 54,
   "id": "9cc5ef91-8e1a-4e3a-aa1f-4276f9b8844d",
   "metadata": {},
   "outputs": [
    {
     "data": {
      "text/plain": [
       "[1, 3, 5, 7, 9]"
      ]
     },
     "execution_count": 54,
     "metadata": {},
     "output_type": "execute_result"
    }
   ],
   "source": [
    "# por padrão, o valor inicial é sempre 0 e o passo é 1, podemos alterar esses valores\n",
    "lista = list(range(1,10,2))\n",
    "lista             "
   ]
  },
  {
   "cell_type": "markdown",
   "id": "df055a61-bcbf-4344-bba1-a59c8c11ddc0",
   "metadata": {
    "jp-MarkdownHeadingCollapsed": true
   },
   "source": [
    "### Módulo (%)\n",
    "O módulo retorna o resto de uma divisão. Por exemplo, se você dividir 5 por 2, você tem 2 valores inteiros (2*2=4) e sobre 1 unidade (5-4)"
   ]
  },
  {
   "cell_type": "code",
   "execution_count": 18,
   "id": "291e568f-2dac-45c8-a93f-b1a1a7c29fac",
   "metadata": {},
   "outputs": [
    {
     "data": {
      "text/plain": [
       "1"
      ]
     },
     "execution_count": 18,
     "metadata": {},
     "output_type": "execute_result"
    }
   ],
   "source": [
    "5 % 2"
   ]
  },
  {
   "cell_type": "markdown",
   "id": "ce74f24f-9f11-4685-8001-18efda98b0c9",
   "metadata": {
    "jp-MarkdownHeadingCollapsed": true
   },
   "source": [
    "### Map\n",
    "A função map() mapeia os valores de um iterável (lista, tupla, gerador, etc) com uma função. Ou seja, retorna uma gerador com o resultado de uma função aplicado a cada item de uma lista original.\n",
    "\n",
    "A sintaxe do map é: map(função, iterável). A função também um gerador"
   ]
  },
  {
   "cell_type": "code",
   "execution_count": 24,
   "id": "357bcdcd-472b-45f1-a051-d5a06ccc3ade",
   "metadata": {},
   "outputs": [
    {
     "name": "stdout",
     "output_type": "stream",
     "text": [
      "0\n",
      "2\n",
      "3\n",
      "0\n"
     ]
    }
   ],
   "source": [
    "# vamos criar uma função que retorne o módulo de um número dividido por 5\n",
    "def mod5(valor):\n",
    "    return valor % 5\n",
    "\n",
    "print(mod5(5))\n",
    "print(mod5(7))\n",
    "print(mod5(8))\n",
    "print(mod5(10))"
   ]
  },
  {
   "cell_type": "code",
   "execution_count": 25,
   "id": "636e27b7-3823-418d-a089-11c2045537c5",
   "metadata": {},
   "outputs": [
    {
     "name": "stdout",
     "output_type": "stream",
     "text": [
      "<map object at 0x00000126B4123B80>\n"
     ]
    }
   ],
   "source": [
    "# agora, queremos calcular o módulo de vários número por 5 usando o map()\n",
    "valores = [1,2,4,5,8,9,10,13,15,21]\n",
    "\n",
    "novos_valores = map(mod5, valores)\n",
    "print(novos_valores)"
   ]
  },
  {
   "cell_type": "code",
   "execution_count": 26,
   "id": "2c224a98-cb06-455b-9252-49f3868cf9ae",
   "metadata": {},
   "outputs": [
    {
     "name": "stdout",
     "output_type": "stream",
     "text": [
      "[1, 2, 4, 0, 3, 4, 0, 3, 0, 1]\n"
     ]
    }
   ],
   "source": [
    "# tranformando o resultado em uma outra lista\n",
    "novos_valores_lista = list(map(mod5, valores))\n",
    "print(novos_valores_lista)"
   ]
  },
  {
   "cell_type": "markdown",
   "id": "379aa996-c137-46c8-8c66-f114ad14f087",
   "metadata": {
    "jp-MarkdownHeadingCollapsed": true
   },
   "source": [
    "### Funções lambda\n",
    "O método lambda cria funções rápidas sem a necessidade de nomeá-las. E são utilizadas, normalmente com outras funções, com a map(), por exemplo."
   ]
  },
  {
   "cell_type": "code",
   "execution_count": 28,
   "id": "b0fd929a-b16c-4e8e-8742-e0f8a6a9fd81",
   "metadata": {},
   "outputs": [
    {
     "name": "stdout",
     "output_type": "stream",
     "text": [
      "[1, 2, 4, 0, 3, 4, 0, 3, 0, 1]\n"
     ]
    }
   ],
   "source": [
    "# utilizando a função anterior mas sem nomeá-la\n",
    "novos_valores_lambda = list(map( lambda x: x % 5 , valores))\n",
    "print(novos_valores_lambda)"
   ]
  },
  {
   "cell_type": "markdown",
   "id": "eb65ff37-e578-4489-bd33-f275709bfa3f",
   "metadata": {},
   "source": [
    "#### Usando mais de um iterável"
   ]
  },
  {
   "cell_type": "code",
   "execution_count": 30,
   "id": "0af3399a-bf55-4850-b14a-50c88a880d10",
   "metadata": {},
   "outputs": [
    {
     "name": "stdout",
     "output_type": "stream",
     "text": [
      "[10, 21, 32, 43, 54, 65, 76, 87, 98, 109]\n"
     ]
    }
   ],
   "source": [
    "valores2 = [10,20,30,40,50,60,70,80,90,100]\n",
    "valores1 = [0,1,2,3,4,5,6,7,8,9]\n",
    "\n",
    "soma_valores = list(map( lambda a,b: a+b, valores1, valores2))\n",
    "print(soma_valores)"
   ]
  },
  {
   "cell_type": "markdown",
   "id": "9891393c-fb7d-4bae-b5db-de230c27cb9a",
   "metadata": {
    "jp-MarkdownHeadingCollapsed": true
   },
   "source": [
    "### Reduce\n",
    "A função reduce(), reduz uma lista de elementos, aplicando uma função aos dois primeiros elementos. Essa era uma função nativa do python, que agora está em um pacote específico de funções, assim antes de utilizá-la você precisará importar a função do pacote.\n",
    "\n",
    "Suponha que a função esteja aplicando uma função f(x,y) a uma lista (x1,x2,x3,x4), o reduce() reduz a lista até retornar um único valor da seguinte maneira:\n",
    "- f(x1,x2),x3,x4\n",
    "- f(f(x1,x2),x3),x4\n",
    "- f(f(f(x1,x2),x3),x4)"
   ]
  },
  {
   "cell_type": "markdown",
   "id": "cb29bfc6-5f02-4d0a-b033-e2252bf75845",
   "metadata": {},
   "source": [
    "Para entender melhor o conceito, uma maneira de encontrar o maior valor de uma lista, podemos ir comparando os números, dois a dois, sempre mantendo o maior valor"
   ]
  },
  {
   "cell_type": "code",
   "execution_count": 35,
   "id": "bb0fbdc4-035a-4724-b62e-7265a60cb673",
   "metadata": {},
   "outputs": [
    {
     "name": "stdout",
     "output_type": "stream",
     "text": [
      "O maior valor da lista é: 76\n"
     ]
    }
   ],
   "source": [
    "# importando a função do pacote functools\n",
    "from functools import reduce\n",
    "\n",
    "# criando uma lista\n",
    "lista = [4,8,9,6,3,6,4,45,76,35,29]\n",
    "\n",
    "maior_valor = reduce(lambda x,y: x if x > y else y, lista)\n",
    "print('O maior valor da lista é: {}'.format(maior_valor))"
   ]
  },
  {
   "cell_type": "code",
   "execution_count": 33,
   "id": "55b499dc-9031-4a08-b0ef-2f618bc824a9",
   "metadata": {},
   "outputs": [
    {
     "name": "stdout",
     "output_type": "stream",
     "text": [
      "Object `reduce()` not found.\n"
     ]
    }
   ],
   "source": []
  },
  {
   "cell_type": "code",
   "execution_count": null,
   "id": "b86f3f4c-f90c-4341-87cd-7bb7b38b356c",
   "metadata": {},
   "outputs": [],
   "source": []
  }
 ],
 "metadata": {
  "kernelspec": {
   "display_name": "Python 3 (ipykernel)",
   "language": "python",
   "name": "python3"
  },
  "language_info": {
   "codemirror_mode": {
    "name": "ipython",
    "version": 3
   },
   "file_extension": ".py",
   "mimetype": "text/x-python",
   "name": "python",
   "nbconvert_exporter": "python",
   "pygments_lexer": "ipython3",
   "version": "3.11.9"
  }
 },
 "nbformat": 4,
 "nbformat_minor": 5
}
