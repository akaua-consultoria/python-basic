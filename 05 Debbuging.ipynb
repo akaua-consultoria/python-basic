{
 "cells": [
  {
   "cell_type": "markdown",
   "id": "f25a7e4e-6edb-4d86-b8c2-3ca51f7498d2",
   "metadata": {},
   "source": [
    "## Encontrando erros nos códigos\n",
    "Em muitos casos encontramos erros que não conseguimos entender o que exatemete está acontecendo. Mas, também muitas vezes, o código é executado normalmente, mas o resultado encontrado não era o esperado.\n",
    "\n",
    "Podemos utilizar algumas bibliotecas para auxiliar nesse processo."
   ]
  },
  {
   "cell_type": "markdown",
   "id": "19360f2c-cfd9-49f5-bee4-15bbf8af898b",
   "metadata": {},
   "source": [
    "## Usando a biblioteca pdb"
   ]
  },
  {
   "cell_type": "code",
   "execution_count": 1,
   "id": "28352586-b4ab-4ffe-a644-7b59416213ea",
   "metadata": {},
   "outputs": [],
   "source": [
    "# importando a biblioteca\n",
    "import pdb"
   ]
  },
  {
   "cell_type": "code",
   "execution_count": 2,
   "id": "99205602-0e20-4d2c-a299-43f12af3d16d",
   "metadata": {},
   "outputs": [
    {
     "name": "stdin",
     "output_type": "stream",
     "text": [
      "Digite o valor de a 15\n"
     ]
    },
    {
     "ename": "TypeError",
     "evalue": "unsupported operand type(s) for /: 'str' and 'int'",
     "output_type": "error",
     "traceback": [
      "\u001b[1;31m---------------------------------------------------------------------------\u001b[0m",
      "\u001b[1;31mTypeError\u001b[0m                                 Traceback (most recent call last)",
      "Cell \u001b[1;32mIn[2], line 5\u001b[0m\n\u001b[0;32m      2\u001b[0m a \u001b[38;5;241m=\u001b[39m \u001b[38;5;28minput\u001b[39m(\u001b[38;5;124m'\u001b[39m\u001b[38;5;124mDigite o valor de a\u001b[39m\u001b[38;5;124m'\u001b[39m)\n\u001b[0;32m      3\u001b[0m b \u001b[38;5;241m=\u001b[39m \u001b[38;5;241m5\u001b[39m\n\u001b[1;32m----> 5\u001b[0m \u001b[38;5;28mprint\u001b[39m(a\u001b[38;5;241m/\u001b[39mb)\n",
      "\u001b[1;31mTypeError\u001b[0m: unsupported operand type(s) for /: 'str' and 'int'"
     ]
    }
   ],
   "source": [
    "# escrevendo um código simples\n",
    "a = input('Digite o valor de a')\n",
    "b = 5\n",
    "\n",
    "print(a/b)"
   ]
  },
  {
   "cell_type": "markdown",
   "id": "dfde976a-cd80-41e9-b3a6-d65887117d52",
   "metadata": {},
   "source": [
    "Notamos que o código retorna um erro. Neste caso sabemos que o problema é que o input lê o dados informado como str. Suponhamos que não sabemos ao certo qual é o erro e utilizar o .set_trace() do pdb para pausar o código antes da linha 5 (local de identificação do erro).\n",
    "\n",
    "Quando a linha do pdb.set_trace() for executada, o código será pausado e um terminal será exibido. Neste momento, podemos passar qualquer instrução python no código para entender o sistema sem afetar a execução subsequente do código. Então, neste caso, podemos perguntar o valor de a, por exemplo. Ou qual é a classe de a (type(a)).\n",
    "\n",
    "Para seguir com o código utilizamos o comando c (o debbuger continua e executa o resto do código - e pode parar novamente se encontrar outro .set_trace) e o comando q é utilizado para encerrar a execução do debbuger."
   ]
  },
  {
   "cell_type": "code",
   "execution_count": 13,
   "id": "954e196f-2db9-4aa0-b5e0-f76dfe4199cc",
   "metadata": {},
   "outputs": [
    {
     "name": "stdin",
     "output_type": "stream",
     "text": [
      "Digite o valor de a 15\n"
     ]
    },
    {
     "name": "stdout",
     "output_type": "stream",
     "text": [
      "--Return--\n",
      "None\n",
      "> \u001b[1;32mc:\\users\\nfama\\appdata\\local\\temp\\ipykernel_17520\\2051088924.py\u001b[0m(6)\u001b[0;36m<module>\u001b[1;34m()\u001b[0m\n",
      "\n"
     ]
    },
    {
     "name": "stdin",
     "output_type": "stream",
     "text": [
      "ipdb>  print(a)\n"
     ]
    },
    {
     "name": "stdout",
     "output_type": "stream",
     "text": [
      "15\n"
     ]
    },
    {
     "name": "stdin",
     "output_type": "stream",
     "text": [
      "ipdb>  type(a)\n"
     ]
    },
    {
     "name": "stdout",
     "output_type": "stream",
     "text": [
      "<class 'str'>\n"
     ]
    },
    {
     "name": "stdin",
     "output_type": "stream",
     "text": [
      "ipdb>  q\n"
     ]
    }
   ],
   "source": [
    "# analisando o código\n",
    "a = input('Digite o valor de a')\n",
    "b = 5\n",
    "\n",
    "# pausando o código\n",
    "pdb.set_trace()\n",
    "\n",
    "print(a/b)"
   ]
  },
  {
   "cell_type": "markdown",
   "id": "ad7df584-0839-46dd-959f-1fd387337ac8",
   "metadata": {},
   "source": [
    "Assim, descobrimos que o problema é o tipo de dado da variável a. Assim, podemos corrigir o código alterando o tipo da variável a:"
   ]
  },
  {
   "cell_type": "code",
   "execution_count": 7,
   "id": "365ab6cf-506c-4440-8144-7fbe2ddb29be",
   "metadata": {},
   "outputs": [
    {
     "name": "stdin",
     "output_type": "stream",
     "text": [
      "Digite o valor de a 15\n"
     ]
    },
    {
     "name": "stdout",
     "output_type": "stream",
     "text": [
      "3.0\n"
     ]
    }
   ],
   "source": [
    "# reecrevendo o código\n",
    "a = float(input('Digite o valor de a'))\n",
    "b = 5\n",
    "\n",
    "print(a/b)"
   ]
  },
  {
   "cell_type": "markdown",
   "id": "2d5b2125-829b-4e30-a0d5-8d7f86b88be8",
   "metadata": {},
   "source": [
    "E, agora, temos o resultado esperado.\n",
    "\n",
    "Agora, suponha que cometemos o mesmo erro, mas, a operação de saída fosse a multiplicação. Sabemos que strings podem ser multiplicadas, então o código não retornará nenhum erro, mas o resultado não será o esperado"
   ]
  },
  {
   "cell_type": "code",
   "execution_count": 8,
   "id": "14e5d989-70e1-4719-a5f4-9872cc7aaaa1",
   "metadata": {},
   "outputs": [
    {
     "name": "stdin",
     "output_type": "stream",
     "text": [
      "Digite o valor de a 9\n"
     ]
    },
    {
     "name": "stdout",
     "output_type": "stream",
     "text": [
      "99999\n"
     ]
    }
   ],
   "source": [
    "# modificando o código\n",
    "a = input('Digite o valor de a')\n",
    "b = 5\n",
    "\n",
    "print(a*b)"
   ]
  },
  {
   "cell_type": "markdown",
   "id": "8917b735-b493-478d-bf58-75f935ea69de",
   "metadata": {},
   "source": [
    "Neste caso poderíamos utilizar o debug para entender o que está acontecendo da mesma maneira."
   ]
  },
  {
   "cell_type": "code",
   "execution_count": 14,
   "id": "4a8151ee-1d26-43fe-a6ad-d798c534f164",
   "metadata": {},
   "outputs": [
    {
     "name": "stdin",
     "output_type": "stream",
     "text": [
      "Digite o valor de a 9\n"
     ]
    },
    {
     "name": "stdout",
     "output_type": "stream",
     "text": [
      "--Return--\n",
      "None\n",
      "> \u001b[1;32mc:\\users\\nfama\\appdata\\local\\temp\\ipykernel_17520\\3293388754.py\u001b[0m(4)\u001b[0;36m<module>\u001b[1;34m()\u001b[0m\n",
      "\n"
     ]
    },
    {
     "name": "stdin",
     "output_type": "stream",
     "text": [
      "ipdb>  print(a)\n"
     ]
    },
    {
     "name": "stdout",
     "output_type": "stream",
     "text": [
      "9\n"
     ]
    },
    {
     "name": "stdin",
     "output_type": "stream",
     "text": [
      "ipdb>  type(a)\n"
     ]
    },
    {
     "name": "stdout",
     "output_type": "stream",
     "text": [
      "<class 'str'>\n"
     ]
    },
    {
     "name": "stdin",
     "output_type": "stream",
     "text": [
      "ipdb>  '9'*5\n"
     ]
    },
    {
     "name": "stdout",
     "output_type": "stream",
     "text": [
      "'99999'\n"
     ]
    },
    {
     "name": "stdin",
     "output_type": "stream",
     "text": [
      "ipdb>  c\n"
     ]
    },
    {
     "name": "stdout",
     "output_type": "stream",
     "text": [
      "99999\n"
     ]
    }
   ],
   "source": [
    "# usando o pdb\n",
    "a = input('Digite o valor de a')\n",
    "b = 5\n",
    "pdb.set_trace()\n",
    "print(a*b)"
   ]
  },
  {
   "cell_type": "markdown",
   "id": "db2b369e-0577-4018-9a1c-5f33c9b81186",
   "metadata": {
    "jp-MarkdownHeadingCollapsed": true
   },
   "source": [
    "## Evitando erros (try, except, finally)\n",
    "Quando precisamos utilizar algum código que pode retornar erros em alguns casos, podemos utilizar, *com cautela* o try.\n",
    "\n",
    "São ferramentas úteis principalmente quando lidando com dados que não podem ter sua integridade garantida, por exemplo. \n",
    "\n",
    "Vamos utilizar o exemplo anterior garantindo que a entrada seja lida como um inteiro"
   ]
  },
  {
   "cell_type": "code",
   "execution_count": 15,
   "id": "45551187-2dba-4c9d-b10d-8db1a2b7ecb7",
   "metadata": {},
   "outputs": [
    {
     "name": "stdin",
     "output_type": "stream",
     "text": [
      "Digite o valor de a 7\n"
     ]
    },
    {
     "name": "stdout",
     "output_type": "stream",
     "text": [
      "35\n"
     ]
    }
   ],
   "source": [
    "# vamos voltar ao código anterior\n",
    "a = int(input('Digite o valor de a')) # garantindo que número inserido seja um inteiro\n",
    "b = 5\n",
    "\n",
    "print(a*b)"
   ]
  },
  {
   "cell_type": "markdown",
   "id": "f4a52372-4b4a-4cdd-ba30-5f6622d1642e",
   "metadata": {},
   "source": [
    "Mas, o usuário pode inserir um texto:"
   ]
  },
  {
   "cell_type": "code",
   "execution_count": 16,
   "id": "50de477c-2eae-42dc-b435-6368567e33a0",
   "metadata": {},
   "outputs": [
    {
     "name": "stdin",
     "output_type": "stream",
     "text": [
      "Digite o valor de a 3o\n"
     ]
    },
    {
     "ename": "ValueError",
     "evalue": "invalid literal for int() with base 10: '3o'",
     "output_type": "error",
     "traceback": [
      "\u001b[1;31m---------------------------------------------------------------------------\u001b[0m",
      "\u001b[1;31mValueError\u001b[0m                                Traceback (most recent call last)",
      "Cell \u001b[1;32mIn[16], line 2\u001b[0m\n\u001b[0;32m      1\u001b[0m \u001b[38;5;66;03m# vamos voltar ao código anterior\u001b[39;00m\n\u001b[1;32m----> 2\u001b[0m a \u001b[38;5;241m=\u001b[39m \u001b[38;5;28mint\u001b[39m(\u001b[38;5;28minput\u001b[39m(\u001b[38;5;124m'\u001b[39m\u001b[38;5;124mDigite o valor de a\u001b[39m\u001b[38;5;124m'\u001b[39m)) \u001b[38;5;66;03m# garantindo que número inserido seja um inteiro\u001b[39;00m\n\u001b[0;32m      3\u001b[0m b \u001b[38;5;241m=\u001b[39m \u001b[38;5;241m5\u001b[39m\n\u001b[0;32m      5\u001b[0m \u001b[38;5;28mprint\u001b[39m(a\u001b[38;5;241m*\u001b[39mb)\n",
      "\u001b[1;31mValueError\u001b[0m: invalid literal for int() with base 10: '3o'"
     ]
    }
   ],
   "source": [
    "# vamos voltar ao código anterior\n",
    "a = int(input('Digite o valor de a')) # garantindo que número inserido seja um inteiro\n",
    "b = 5\n",
    "\n",
    "print(a*b)"
   ]
  },
  {
   "cell_type": "markdown",
   "id": "d54177f4-839a-49a9-8b51-af232718af51",
   "metadata": {},
   "source": [
    "Podemos evitar que o erro aconteça e informe ao usuário o problema:"
   ]
  },
  {
   "cell_type": "code",
   "execution_count": 20,
   "id": "5c7dc6d3-22d5-444b-b56b-5a637943ec72",
   "metadata": {},
   "outputs": [
    {
     "name": "stdin",
     "output_type": "stream",
     "text": [
      "Digite o valor de a 3o\n"
     ]
    },
    {
     "name": "stdout",
     "output_type": "stream",
     "text": [
      "O dado inserido (3o) não pode ser convertido para inteiro\n"
     ]
    }
   ],
   "source": [
    "# vamos voltar ao código anterior\n",
    "a = input('Digite o valor de a')\n",
    "b = 5\n",
    "\n",
    "try:\n",
    "    a = int(a)\n",
    "    print('O resultado de {} * {} é: {}'.format(a,b,a*b))\n",
    "except:\n",
    "    print('O dado inserido ({}) não pode ser convertido para inteiro'.format(a))\n"
   ]
  },
  {
   "cell_type": "markdown",
   "id": "8cb18c5c-56ae-414f-9296-3a14e6cbf90d",
   "metadata": {},
   "source": [
    "Neste caso, o código executou o bloco do except, porque não conseguiu executar todo o bloco do try. Quando é possível, ele só executa o try e nada do except"
   ]
  },
  {
   "cell_type": "code",
   "execution_count": 21,
   "id": "2d22fadc-1143-4d94-a5bc-24722af36ece",
   "metadata": {},
   "outputs": [
    {
     "name": "stdin",
     "output_type": "stream",
     "text": [
      "Digite o valor de a 7\n"
     ]
    },
    {
     "name": "stdout",
     "output_type": "stream",
     "text": [
      "O resultado de 7 * 5 é: 35\n"
     ]
    }
   ],
   "source": [
    "a = input('Digite o valor de a')\n",
    "b = 5\n",
    "\n",
    "try:\n",
    "    a = int(a)\n",
    "    print('O resultado de {} * {} é: {}'.format(a,b,a*b))\n",
    "except:\n",
    "    print('O dado inserido ({}) não pode ser convertido para inteiro'.format(a))"
   ]
  },
  {
   "cell_type": "markdown",
   "id": "1b2bc048-dd7f-4064-bc55-6b7bf78604ac",
   "metadata": {},
   "source": [
    "Neste caso, o código executou o bloco try, porque não encontrou erros nesse bloco.\n",
    "\n",
    "Também podemos utilizar um bloco de código, o finally, que será executado independente da presença ou não de erros:"
   ]
  },
  {
   "cell_type": "code",
   "execution_count": 22,
   "id": "2b33504a-c84a-467b-bd1c-c312a358fd8d",
   "metadata": {},
   "outputs": [
    {
     "name": "stdin",
     "output_type": "stream",
     "text": [
      "Digite o valor de a w7\n"
     ]
    },
    {
     "name": "stdout",
     "output_type": "stream",
     "text": [
      "O dado inserido (w7) não pode ser convertido para inteiro\n",
      "O programa foi encerrado\n"
     ]
    }
   ],
   "source": [
    "a = input('Digite o valor de a')\n",
    "b = 5\n",
    "\n",
    "try:\n",
    "    a = int(a)\n",
    "    print('O resultado de {} * {} é: {}'.format(a,b,a*b))\n",
    "except:\n",
    "    print('O dado inserido ({}) não pode ser convertido para inteiro'.format(a))\n",
    "finally:\n",
    "    print('O programa foi encerrado')"
   ]
  },
  {
   "cell_type": "code",
   "execution_count": 23,
   "id": "3cdcda27-5487-4d15-8b6d-1c9af615cbad",
   "metadata": {},
   "outputs": [
    {
     "name": "stdin",
     "output_type": "stream",
     "text": [
      "Digite o valor de a 2\n"
     ]
    },
    {
     "name": "stdout",
     "output_type": "stream",
     "text": [
      "O resultado de 2 * 5 é: 10\n",
      "O programa foi encerrado\n"
     ]
    }
   ],
   "source": [
    "a = input('Digite o valor de a')\n",
    "b = 5\n",
    "\n",
    "try:\n",
    "    a = int(a)\n",
    "    print('O resultado de {} * {} é: {}'.format(a,b,a*b))\n",
    "except:\n",
    "    print('O dado inserido ({}) não pode ser convertido para inteiro'.format(a))\n",
    "finally:\n",
    "    print('O programa foi encerrado')"
   ]
  },
  {
   "cell_type": "markdown",
   "id": "e864cee0-9930-4e71-bc3a-0eddad4e8351",
   "metadata": {},
   "source": [
    "### Retornando o erro"
   ]
  },
  {
   "cell_type": "code",
   "execution_count": 24,
   "id": "52ef40c1-e881-44ad-84a4-4c3b9f81f39a",
   "metadata": {},
   "outputs": [
    {
     "name": "stdin",
     "output_type": "stream",
     "text": [
      "Digite o valor de a dois\n"
     ]
    },
    {
     "name": "stdout",
     "output_type": "stream",
     "text": [
      "Erro: invalid literal for int() with base 10: 'dois'\n",
      "O programa foi encerrado\n"
     ]
    }
   ],
   "source": [
    "a = input('Digite o valor de a')\n",
    "b = 5\n",
    "\n",
    "try:\n",
    "    a = int(a)\n",
    "    print('O resultado de {} * {} é: {}'.format(a,b,a*b))\n",
    "except Exception as e:\n",
    "    print('Erro: {}'.format(e))\n",
    "finally:\n",
    "    print('O programa foi encerrado')"
   ]
  },
  {
   "cell_type": "markdown",
   "id": "e272c90f-7f07-4e4c-9fba-bd433a733723",
   "metadata": {
    "jp-MarkdownHeadingCollapsed": true
   },
   "source": [
    "## Logging\n",
    "Armazena dados de funcionamento dos códigos. Acompanha e salva informações que entendemos relevantes para observar a execução dos programas.\n",
    "\n",
    "As informações são classificadas em níveis:\n",
    "- Critical: 50\n",
    "- Error: 40\n",
    "- Warning: 30\n",
    "- Info: 20\n",
    "- Debug: 10\n",
    "- Notset: 0e|\r\n",
    "   |\r\n"
   ]
  },
  {
   "cell_type": "code",
   "execution_count": 1,
   "id": "82c59e77-bf83-43ad-b729-729e53434c99",
   "metadata": {},
   "outputs": [],
   "source": [
    "# importando a biblioteca\n",
    "import logging"
   ]
  },
  {
   "cell_type": "code",
   "execution_count": 2,
   "id": "f61abfe2-f673-4f4c-bc48-56d45d11b5f2",
   "metadata": {},
   "outputs": [],
   "source": [
    "LOG_FORMAT = '%(asctime)s %(levelname)s %(message)s'\n",
    "\n",
    "# usando o basic config\n",
    "logging.basicConfig(filename = 'codigo.log', encoding = 'utf8', format = LOG_FORMAT)"
   ]
  },
  {
   "cell_type": "code",
   "execution_count": 3,
   "id": "cb071e7e-a5a3-4198-b146-45f65b3ee3c8",
   "metadata": {},
   "outputs": [],
   "source": [
    "log = logging.getLogger()"
   ]
  },
  {
   "cell_type": "code",
   "execution_count": 4,
   "id": "62391d74-92fa-4afb-8c1b-f51a953852dd",
   "metadata": {},
   "outputs": [],
   "source": [
    "# adicionando um tipo de registro\n",
    "log.info('Nosso primeiro log de info')"
   ]
  },
  {
   "cell_type": "code",
   "execution_count": 5,
   "id": "9534c15a-eda8-4062-8160-7595df4bf504",
   "metadata": {},
   "outputs": [
    {
     "data": {
      "text/plain": [
       "30"
      ]
     },
     "execution_count": 5,
     "metadata": {},
     "output_type": "execute_result"
    }
   ],
   "source": [
    "# descobrindo o nível mínimo de informação que é armazena no log\n",
    "log.level"
   ]
  },
  {
   "cell_type": "markdown",
   "id": "f23c39ac-501d-4e10-bc33-eed62c9ecc20",
   "metadata": {},
   "source": [
    "Mas, como podemos observar, o nível mínimo de informação armazenada é 30 (nível warning), então esse log não será registrado. Vamos registrar um warning"
   ]
  },
  {
   "cell_type": "code",
   "execution_count": 6,
   "id": "1cd0827c-6a57-4e12-869a-6a39a5597f5a",
   "metadata": {},
   "outputs": [],
   "source": [
    "log.warning('Logando um aviso de warning')"
   ]
  },
  {
   "cell_type": "markdown",
   "id": "081ea80a-ff33-4e0c-8596-6bec904f2b7d",
   "metadata": {},
   "source": [
    "Também podemos alterar o nível mínimo de logs"
   ]
  },
  {
   "cell_type": "code",
   "execution_count": 7,
   "id": "e08428b4-1c8c-4de0-8f1c-4a738cdffeef",
   "metadata": {},
   "outputs": [],
   "source": [
    "# agora vamos criar um arquivo de log com um nível mais baixo\n",
    "log.level = 10"
   ]
  },
  {
   "cell_type": "code",
   "execution_count": 8,
   "id": "aff7a155-10c0-4404-8790-82601a614734",
   "metadata": {},
   "outputs": [
    {
     "data": {
      "text/plain": [
       "10"
      ]
     },
     "execution_count": 8,
     "metadata": {},
     "output_type": "execute_result"
    }
   ],
   "source": [
    "log.level"
   ]
  },
  {
   "cell_type": "markdown",
   "id": "df0285e8-5323-4bac-bd1c-9d1fac56ceba",
   "metadata": {},
   "source": [
    "E adicionar então um log de info:"
   ]
  },
  {
   "cell_type": "code",
   "execution_count": 9,
   "id": "b106e17d-917b-4073-930c-3aedd5035b87",
   "metadata": {},
   "outputs": [],
   "source": [
    "log.info('Nosso primeiro log de info')"
   ]
  },
  {
   "cell_type": "markdown",
   "id": "2ef426a2-ab1a-4d7d-9cfd-417212ecbbf8",
   "metadata": {},
   "source": [
    "E qualquer outro nível:"
   ]
  },
  {
   "cell_type": "code",
   "execution_count": 10,
   "id": "23f9d749-c0d4-4958-a2c6-b8ece8547c5f",
   "metadata": {},
   "outputs": [],
   "source": [
    "# adicionando um tipo de registro\n",
    "log.debug('Log de debug')\n",
    "log.warning('Log de warning')\n",
    "log.error('Log de erro')\n",
    "log.critical('Log de erro crítico')"
   ]
  },
  {
   "cell_type": "code",
   "execution_count": null,
   "id": "6bac0282-a684-4927-9967-74fdc2522c0c",
   "metadata": {},
   "outputs": [],
   "source": []
  }
 ],
 "metadata": {
  "kernelspec": {
   "display_name": "Python 3 (ipykernel)",
   "language": "python",
   "name": "python3"
  },
  "language_info": {
   "codemirror_mode": {
    "name": "ipython",
    "version": 3
   },
   "file_extension": ".py",
   "mimetype": "text/x-python",
   "name": "python",
   "nbconvert_exporter": "python",
   "pygments_lexer": "ipython3",
   "version": "3.11.9"
  }
 },
 "nbformat": 4,
 "nbformat_minor": 5
}
