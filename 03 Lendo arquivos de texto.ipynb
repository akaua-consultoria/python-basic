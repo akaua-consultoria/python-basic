{
 "cells": [
  {
   "cell_type": "markdown",
   "id": "526c5ae9-498f-4ec5-9f00-28f9addae1cf",
   "metadata": {},
   "source": [
    "# Interagindo com arquivos de texto com o python\n",
    "Com o python, também é possível interagir com arquivos salvos no seu computador (e na internet).\n",
    "\n",
    "Vamos conhenecer algumas maneiras simples de fazer isso com arquivos de texto"
   ]
  },
  {
   "cell_type": "markdown",
   "id": "1ea1e5ad-ab37-4273-a85d-db8b84325789",
   "metadata": {
    "jp-MarkdownHeadingCollapsed": true
   },
   "source": [
    "## Escrevendo arquivos\n",
    "O seu código pode gerar informações importantes que você queira salvar/registrar."
   ]
  },
  {
   "cell_type": "markdown",
   "id": "09b7b35a-5ce6-4bad-8067-dd277634032a",
   "metadata": {},
   "source": [
    "### Usando o iPython\n",
    "Um maneira simples de fazer isso é utilizando o %%writefile."
   ]
  },
  {
   "cell_type": "code",
   "execution_count": 43,
   "id": "38c2ac78-4c55-4ed6-b373-a2b81890e82b",
   "metadata": {},
   "outputs": [
    {
     "name": "stdout",
     "output_type": "stream",
     "text": [
      "Overwriting test.txt\n"
     ]
    }
   ],
   "source": [
    "%%writefile test.txt\n",
    "Esse é um primeiro arquivo sendo criado"
   ]
  },
  {
   "cell_type": "markdown",
   "id": "e2881638-299c-4bc5-a80c-10e0f8a36eed",
   "metadata": {},
   "source": [
    "Se você criar um novo texto e salvar com o mesmo nome, o arquivo existente será substituído"
   ]
  },
  {
   "cell_type": "code",
   "execution_count": 70,
   "id": "07ce78f0-c2ae-4aa1-81b5-12629f0350eb",
   "metadata": {},
   "outputs": [
    {
     "name": "stdout",
     "output_type": "stream",
     "text": [
      "Overwriting test.txt\n"
     ]
    }
   ],
   "source": [
    "%%writefile test.txt\n",
    "Este é um novo texto que será reescrito no mesmo arquivo\n",
    "Essa é a segunda linha\n",
    "Essa é a terceira linha\n",
    "Essa é a quarta linha\n",
    "Essa é a quinta linha\n",
    "E assim por diante ..."
   ]
  },
  {
   "cell_type": "markdown",
   "id": "5c21582a-018a-4daf-b6ab-f7faa961d516",
   "metadata": {},
   "source": [
    "### Usando o open()\n",
    "Também podemos criar arquivos de texto usando o open('caminho/do/arquivo.txt', 'w', encoding='utf8'). \n",
    "- O 'w', é de write e significa que queremos escrever um arquivo\n",
    "- o encoding define a codificação do arquivo."
   ]
  },
  {
   "cell_type": "code",
   "execution_count": 45,
   "id": "6dace56c-a46d-46ae-81aa-8302ce5761c1",
   "metadata": {},
   "outputs": [],
   "source": [
    "file = open('novo_teste.txt','w', encoding = 'utf-8')"
   ]
  },
  {
   "cell_type": "markdown",
   "id": "7d09acfc-12e1-46b0-8097-4f6eb563aece",
   "metadata": {},
   "source": [
    "Agora utilizamos o .write para adicionar linhas ao arquivo"
   ]
  },
  {
   "cell_type": "code",
   "execution_count": 46,
   "id": "8c260e41-dbd8-4032-ad1d-044ea6689a7d",
   "metadata": {},
   "outputs": [
    {
     "data": {
      "text/plain": [
       "40"
      ]
     },
     "execution_count": 46,
     "metadata": {},
     "output_type": "execute_result"
    }
   ],
   "source": [
    "file.write('Essa é a primeira linha do nosso arquivo')"
   ]
  },
  {
   "cell_type": "code",
   "execution_count": 47,
   "id": "efe4901a-b9e2-4a6a-a3db-604a7902067a",
   "metadata": {},
   "outputs": [
    {
     "data": {
      "text/plain": [
       "40"
      ]
     },
     "execution_count": 47,
     "metadata": {},
     "output_type": "execute_result"
    }
   ],
   "source": [
    "file.write('. Essa é a continuação do nosso arquivo.')"
   ]
  },
  {
   "cell_type": "code",
   "execution_count": 48,
   "id": "682cdd3c-9c93-4bd9-872d-1d7f15f37320",
   "metadata": {},
   "outputs": [
    {
     "data": {
      "text/plain": [
       "52"
      ]
     },
     "execution_count": 48,
     "metadata": {},
     "output_type": "execute_result"
    }
   ],
   "source": [
    "file.write('Podemos ir adicionando texto, conforme a necessidade')"
   ]
  },
  {
   "cell_type": "code",
   "execution_count": 49,
   "id": "80ef84d6-496d-453f-8002-0c39dbe1c9e7",
   "metadata": {},
   "outputs": [
    {
     "data": {
      "text/plain": [
       "64"
      ]
     },
     "execution_count": 49,
     "metadata": {},
     "output_type": "execute_result"
    }
   ],
   "source": [
    "file.write('Também podemos utlizar o \\n para adicionar texto a uma nova linha')"
   ]
  },
  {
   "cell_type": "markdown",
   "id": "ae919474-db6f-45de-86f3-d5910d7fa35d",
   "metadata": {},
   "source": [
    "Quando finalizarmos a edição, precisamos fechar o arquivo para que as modificações sejam efetivadas"
   ]
  },
  {
   "cell_type": "code",
   "execution_count": 50,
   "id": "d14a4c88-8dfb-41d8-a86e-a9e9a6e1f2c9",
   "metadata": {},
   "outputs": [],
   "source": [
    "# fechando o arquivo\n",
    "file.close()"
   ]
  },
  {
   "cell_type": "markdown",
   "id": "92dc0e1c-0807-4cbe-9e52-93655c318922",
   "metadata": {
    "jp-MarkdownHeadingCollapsed": true
   },
   "source": [
    "## Lendo arquivos\n",
    "Também podemos usar o open() para ler arquivos, usando o parâmetro 'r', de read"
   ]
  },
  {
   "cell_type": "markdown",
   "id": "db2a29cb-c35a-4868-ad01-481acbec05c2",
   "metadata": {},
   "source": [
    "### Lendo o arquivo todo"
   ]
  },
  {
   "cell_type": "code",
   "execution_count": 51,
   "id": "1cebedae-de1a-4e4b-8152-c328a368589a",
   "metadata": {},
   "outputs": [],
   "source": [
    "arq = open('novo_teste.txt', 'r')"
   ]
  },
  {
   "cell_type": "code",
   "execution_count": 52,
   "id": "c3f14cef-91c3-4fd2-963b-884256ef8a13",
   "metadata": {},
   "outputs": [
    {
     "data": {
      "text/plain": [
       "<_io.TextIOWrapper name='novo_teste.txt' mode='r' encoding='cp1252'>"
      ]
     },
     "execution_count": 52,
     "metadata": {},
     "output_type": "execute_result"
    }
   ],
   "source": [
    "arq"
   ]
  },
  {
   "cell_type": "code",
   "execution_count": 53,
   "id": "05b11252-eac8-4b5b-a26f-d02658708767",
   "metadata": {},
   "outputs": [
    {
     "data": {
      "text/plain": [
       "'Essa Ã© a primeira linha do nosso arquivo. Essa Ã© a continuaÃ§Ã£o do nosso arquivo.Podemos ir adicionando texto, conforme a necessidadeTambÃ©m podemos utlizar o \\n para adicionar texto a uma nova linha'"
      ]
     },
     "execution_count": 53,
     "metadata": {},
     "output_type": "execute_result"
    }
   ],
   "source": [
    "# vamos ler todo o arquivo\n",
    "arq.read()"
   ]
  },
  {
   "cell_type": "markdown",
   "id": "fcd5916a-c320-4f93-ae5c-d7b9946c1c5f",
   "metadata": {},
   "source": [
    "Aparecem letras \"estranhas\". Isso ocorre porque o programa está lendo o arquivo com um encoding diferente do nosso arquivo.\n",
    "\n",
    "Vamos então declarar a codifição na leitura do arquivo."
   ]
  },
  {
   "cell_type": "code",
   "execution_count": 54,
   "id": "06e63f99-ec41-4f79-a131-05471fe733f5",
   "metadata": {},
   "outputs": [
    {
     "data": {
      "text/plain": [
       "<_io.TextIOWrapper name='novo_teste.txt' mode='r' encoding='utf-8'>"
      ]
     },
     "execution_count": 54,
     "metadata": {},
     "output_type": "execute_result"
    }
   ],
   "source": [
    "# fechando o arquivo\n",
    "arq.close()\n",
    "\n",
    "# abrindo novamente\n",
    "arq = open('novo_teste.txt','r', encoding='utf-8')\n",
    "arq"
   ]
  },
  {
   "cell_type": "markdown",
   "id": "3785ccee-723a-49ed-95b5-2a44a60ccf60",
   "metadata": {},
   "source": [
    "Já notamos que, desta vez, o arquivo foi lido com o encoding correto. Agora vamos ler"
   ]
  },
  {
   "cell_type": "code",
   "execution_count": 55,
   "id": "2cd717c2-fecc-4c66-8295-32b0fce0ca25",
   "metadata": {},
   "outputs": [
    {
     "data": {
      "text/plain": [
       "'Essa é a primeira linha do nosso arquivo. Essa é a continuação do nosso arquivo.Podemos ir adicionando texto, conforme a necessidadeTambém podemos utlizar o \\n para adicionar texto a uma nova linha'"
      ]
     },
     "execution_count": 55,
     "metadata": {},
     "output_type": "execute_result"
    }
   ],
   "source": [
    "arq.read()"
   ]
  },
  {
   "cell_type": "markdown",
   "id": "b371f805-fe06-49b9-9309-f53d844337e8",
   "metadata": {},
   "source": [
    "O arquivo foi lido da maneira esperada. Vamos, agora, tentar ler novamente o arquivo"
   ]
  },
  {
   "cell_type": "code",
   "execution_count": 56,
   "id": "e6d5e291-45e8-4e39-a72a-7e5a79a61f45",
   "metadata": {},
   "outputs": [
    {
     "data": {
      "text/plain": [
       "''"
      ]
     },
     "execution_count": 56,
     "metadata": {},
     "output_type": "execute_result"
    }
   ],
   "source": [
    "arq.read()"
   ]
  },
  {
   "cell_type": "markdown",
   "id": "a82f7245-276b-4cef-81be-b9f77ce72278",
   "metadata": {},
   "source": [
    "Isso acontece porque o programa já leu todo o arquivo. Para ler novamente podemos fechar o arquivo e abrir novamente. Ou \"apontar\" para um lugar específico do arquivo"
   ]
  },
  {
   "cell_type": "code",
   "execution_count": 57,
   "id": "26af7b14-febf-42ad-a93e-47d1286d512d",
   "metadata": {},
   "outputs": [
    {
     "name": "stdout",
     "output_type": "stream",
     "text": [
      "Essa é a primeira linha do nosso arquivo. Essa é a continuação do nosso arquivo.Podemos ir adicionando texto, conforme a necessidadeTambém podemos utlizar o \n",
      " para adicionar texto a uma nova linha\n"
     ]
    }
   ],
   "source": [
    "# fechando e abrindo\n",
    "arq.close()\n",
    "arq = open('novo_teste.txt','r',encoding='utf-8')\n",
    "\n",
    "# para visualizar o arquivo da maneira como ele aparece no arquivo de texto\n",
    "print(arq.read())"
   ]
  },
  {
   "cell_type": "code",
   "execution_count": 58,
   "id": "2bde1cf5-088d-4fb8-b961-8e6787421207",
   "metadata": {},
   "outputs": [
    {
     "data": {
      "text/plain": [
       "'Essa é a primeira linha do nosso arquivo. Essa é a continuação do nosso arquivo.Podemos ir adicionando texto, conforme a necessidadeTambém podemos utlizar o \\n para adicionar texto a uma nova linha'"
      ]
     },
     "execution_count": 58,
     "metadata": {},
     "output_type": "execute_result"
    }
   ],
   "source": [
    "# apontando para o início do arquivo\n",
    "arq.seek(0)\n",
    "\n",
    "# lendo novamente\n",
    "arq.read()"
   ]
  },
  {
   "cell_type": "code",
   "execution_count": 59,
   "id": "4e516be4-630d-4a9e-bf2c-0a3f7c7fe9c0",
   "metadata": {},
   "outputs": [],
   "source": [
    "# fechando o arquivo\n",
    "arq.close()"
   ]
  },
  {
   "cell_type": "markdown",
   "id": "d13a32b5-5be1-48fa-87b0-4d90fbebb8cf",
   "metadata": {},
   "source": [
    "### Lendo o arquivo por linhas\n",
    "Também podemos ler o arquivo linha a linha"
   ]
  },
  {
   "cell_type": "code",
   "execution_count": 64,
   "id": "706c21ba-08f2-4888-9ee8-bf411d53fddb",
   "metadata": {},
   "outputs": [
    {
     "data": {
      "text/plain": [
       "<_io.TextIOWrapper name='test.txt' mode='r' encoding='utf-8'>"
      ]
     },
     "execution_count": 64,
     "metadata": {},
     "output_type": "execute_result"
    }
   ],
   "source": [
    "# abrindo o arquivo test.txt\n",
    "teste = open('test.txt','r',encoding='utf-8')\n",
    "teste"
   ]
  },
  {
   "cell_type": "code",
   "execution_count": 65,
   "id": "02028d1e-112a-4b1a-afc4-043f7e40476c",
   "metadata": {},
   "outputs": [
    {
     "data": {
      "text/plain": [
       "['Este é um novo texto que será reescrito no mesmo arquivo\\n',\n",
       " 'Essa é a segunda linha\\n',\n",
       " 'Essa é a terceira linha\\n',\n",
       " 'Essa é a quarta linha\\n',\n",
       " 'Essa é a quinta linha\\n',\n",
       " 'E assim por diante\\n']"
      ]
     },
     "execution_count": 65,
     "metadata": {},
     "output_type": "execute_result"
    }
   ],
   "source": [
    "teste.readlines()"
   ]
  },
  {
   "cell_type": "code",
   "execution_count": 66,
   "id": "7efa80e0-348a-4e8a-be1b-e66f0c204a59",
   "metadata": {},
   "outputs": [],
   "source": [
    "# fechando o arquivo\n",
    "teste.close()"
   ]
  },
  {
   "cell_type": "markdown",
   "id": "beee300f-2703-40ca-a190-d12ea4aae473",
   "metadata": {},
   "source": [
    "O readlines() retorna uma lista com as linhas presente no arquivo. Se quisermos ler uma linha por ver, podemos iterar sobre o arquivo:"
   ]
  },
  {
   "cell_type": "code",
   "execution_count": 72,
   "id": "81914e1e-401d-42de-a8d8-328b2ef98398",
   "metadata": {},
   "outputs": [
    {
     "name": "stdout",
     "output_type": "stream",
     "text": [
      "Este é um novo texto que será reescrito no mesmo arquivo\n",
      "\n",
      "Essa é a segunda linha\n",
      "\n",
      "Essa é a terceira linha\n",
      "\n",
      "Essa é a quarta linha\n",
      "\n",
      "Essa é a quinta linha\n",
      "\n",
      "E assim por diante ...\n",
      "\n"
     ]
    }
   ],
   "source": [
    "# lendo um arquivo \n",
    "teste = open('test.txt','r',encoding='utf-8')\n",
    "\n",
    "# iterando sobre as linhas\n",
    "for linha in teste:\n",
    "    print(linha)\n",
    "\n",
    "# fechando o arquivo\n",
    "teste.close()"
   ]
  },
  {
   "cell_type": "code",
   "execution_count": 74,
   "id": "75bb7091-e6c9-4b66-82ee-409a5ffccbbf",
   "metadata": {},
   "outputs": [
    {
     "name": "stdout",
     "output_type": "stream",
     "text": [
      "Este é um novo texto que será reescrito no mesmo arquivo\n",
      "\n",
      "Essa é a segunda linha\n",
      "\n",
      "Essa é a terceira linha\n",
      "\n",
      "Essa é a quarta linha\n",
      "\n",
      "Essa é a quinta linha\n",
      "\n",
      "E assim por diante ...\n",
      "\n"
     ]
    }
   ],
   "source": [
    "# vamos adicionar uma pausa, para ver o programa funcionando\n",
    "import time\n",
    "# lendo um arquivo \n",
    "teste = open('test.txt','r',encoding='utf-8')\n",
    "\n",
    "# iterando sobre as linhas\n",
    "for linha in teste:\n",
    "    print(linha)\n",
    "    time.sleep(.6)\n",
    "\n",
    "# fechando o arquivo\n",
    "teste.close()"
   ]
  },
  {
   "cell_type": "code",
   "execution_count": 79,
   "id": "4514aaea-2a41-4dff-9168-9c405aaab3e9",
   "metadata": {},
   "outputs": [
    {
     "name": "stdout",
     "output_type": "stream",
     "text": [
      "Este é um novo texto que será reescrito no mesmo arquivo\n",
      "\n",
      "Essa é a segunda linha\n",
      "\n",
      "Essa é a terceira linha\n",
      "\n",
      "Essa é a quarta linha\n",
      "\n",
      "Essa é a quinta linha\n",
      "\n",
      "E assim por diante ...\n",
      "\n"
     ]
    }
   ],
   "source": [
    "# e agora, vamos imprimir letra a letra de cada linha\n",
    "import time\n",
    "# lendo um arquivo \n",
    "teste = open('test.txt','r',encoding='utf-8')\n",
    "\n",
    "# iterando sobre as linhas\n",
    "for linha in teste:\n",
    "    for letra in linha:\n",
    "        print(letra, end = '')\n",
    "        time.sleep(.1)\n",
    "    print('')\n",
    "\n",
    "# fechando o arquivo\n",
    "teste.close()"
   ]
  }
 ],
 "metadata": {
  "kernelspec": {
   "display_name": "Python 3 (ipykernel)",
   "language": "python",
   "name": "python3"
  },
  "language_info": {
   "codemirror_mode": {
    "name": "ipython",
    "version": 3
   },
   "file_extension": ".py",
   "mimetype": "text/x-python",
   "name": "python",
   "nbconvert_exporter": "python",
   "pygments_lexer": "ipython3",
   "version": "3.11.9"
  }
 },
 "nbformat": 4,
 "nbformat_minor": 5
}
