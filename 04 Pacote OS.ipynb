{
 "cells": [
  {
   "cell_type": "markdown",
   "id": "a0c03947-b697-45e4-8c25-03ebc8d780a5",
   "metadata": {},
   "source": [
    "# Entendedo pacote OS (Operanting Systems)"
   ]
  },
  {
   "cell_type": "code",
   "execution_count": 2,
   "id": "46d69728-5132-4e2f-821e-495aa7a8d10b",
   "metadata": {},
   "outputs": [],
   "source": [
    "import os"
   ]
  },
  {
   "cell_type": "markdown",
   "id": "2884a367-4a2f-4769-afb7-6c09b37ece6d",
   "metadata": {},
   "source": [
    "## Descobrindo e mudando o diretório de trabalho"
   ]
  },
  {
   "cell_type": "code",
   "execution_count": 3,
   "id": "bf07ed67-4e5a-4a7b-b148-76bc9d660451",
   "metadata": {},
   "outputs": [
    {
     "data": {
      "text/plain": [
       "'D:\\\\nfama\\\\Documents\\\\projetos\\\\akaua\\\\python\\\\01 GettingStartedWithPython'"
      ]
     },
     "execution_count": 3,
     "metadata": {},
     "output_type": "execute_result"
    }
   ],
   "source": [
    "# lendo o diretório atual\n",
    "os.getcwd()"
   ]
  },
  {
   "cell_type": "code",
   "execution_count": 75,
   "id": "a22d2013-1b7c-416b-82d9-36643c2013db",
   "metadata": {},
   "outputs": [
    {
     "name": "stdout",
     "output_type": "stream",
     "text": [
      "D:\\nfama\\Documents\\projetos\\akaua\\python\\01 GettingStartedWithPython\n"
     ]
    }
   ],
   "source": [
    "print(os.getcwd())"
   ]
  },
  {
   "cell_type": "code",
   "execution_count": 76,
   "id": "e1bb46ba-03fe-4667-8724-dbfa087fddfd",
   "metadata": {},
   "outputs": [
    {
     "data": {
      "text/plain": [
       "['.ipynb_checkpoints',\n",
       " '01 Objetos e tipos de dados.ipynb',\n",
       " '02 Operadores e controladores de fluxo.ipynb',\n",
       " '03 Lendo arquivos de texto.ipynb',\n",
       " '04 Pacote OS.ipynb',\n",
       " 'novo_teste.txt',\n",
       " 'Pasta',\n",
       " 'Pasta0',\n",
       " 'test.txt']"
      ]
     },
     "execution_count": 76,
     "metadata": {},
     "output_type": "execute_result"
    }
   ],
   "source": [
    "# listando arquivs e pastas\n",
    "os.listdir()"
   ]
  },
  {
   "cell_type": "code",
   "execution_count": 77,
   "id": "2d7afb28-2710-4783-a46a-a66e406a3b7a",
   "metadata": {},
   "outputs": [
    {
     "data": {
      "text/plain": [
       "['01 GettingStartedWithPython']"
      ]
     },
     "execution_count": 77,
     "metadata": {},
     "output_type": "execute_result"
    }
   ],
   "source": [
    "# mudando o diretório de execução\n",
    "os.chdir('D:\\\\nfama\\\\Documents\\\\projetos\\\\akaua\\\\python\\\\')\n",
    "os.listdir()"
   ]
  },
  {
   "cell_type": "code",
   "execution_count": 78,
   "id": "cfb13acf-3656-453e-b6f8-5ec3060f3f65",
   "metadata": {},
   "outputs": [
    {
     "data": {
      "text/plain": [
       "['.ipynb_checkpoints',\n",
       " '01 Objetos e tipos de dados.ipynb',\n",
       " '02 Operadores e controladores de fluxo.ipynb',\n",
       " '03 Lendo arquivos de texto.ipynb',\n",
       " '04 Pacote OS.ipynb',\n",
       " 'novo_teste.txt',\n",
       " 'Pasta',\n",
       " 'Pasta0',\n",
       " 'test.txt']"
      ]
     },
     "execution_count": 78,
     "metadata": {},
     "output_type": "execute_result"
    }
   ],
   "source": [
    "# voltando para o diretório\n",
    "os.chdir('D:\\\\nfama\\\\Documents\\\\projetos\\\\akaua\\\\python\\\\01 GettingStartedWithPython')\n",
    "os.listdir()"
   ]
  },
  {
   "cell_type": "markdown",
   "id": "16f08e4c-cf49-432d-a25f-ebb0219dfcee",
   "metadata": {},
   "source": [
    "## Interegindo com o diretório de trabalho"
   ]
  },
  {
   "cell_type": "code",
   "execution_count": 80,
   "id": "5afb3a95-b3a4-4a23-aa89-34c10b6ee8fb",
   "metadata": {},
   "outputs": [],
   "source": [
    "# criando um diretório\n",
    "os.mkdir('Pasta0')"
   ]
  },
  {
   "cell_type": "code",
   "execution_count": 81,
   "id": "7b0ea6e4-3a11-453a-a131-2fc1e14c7f5a",
   "metadata": {},
   "outputs": [
    {
     "data": {
      "text/plain": [
       "['.ipynb_checkpoints',\n",
       " '01 Objetos e tipos de dados.ipynb',\n",
       " '02 Operadores e controladores de fluxo.ipynb',\n",
       " '03 Lendo arquivos de texto.ipynb',\n",
       " '04 Pacote OS.ipynb',\n",
       " 'NovaPasta',\n",
       " 'novo_teste.txt',\n",
       " 'Pasta0',\n",
       " 'test.txt']"
      ]
     },
     "execution_count": 81,
     "metadata": {},
     "output_type": "execute_result"
    }
   ],
   "source": [
    "# criando um novo diretório\n",
    "os.mkdir('NovaPasta')\n",
    "os.listdir()"
   ]
  },
  {
   "cell_type": "code",
   "execution_count": 82,
   "id": "e7de62ad-7676-44b7-afdf-2ab6d7c6340c",
   "metadata": {},
   "outputs": [
    {
     "data": {
      "text/plain": [
       "['.ipynb_checkpoints',\n",
       " '01 Objetos e tipos de dados.ipynb',\n",
       " '02 Operadores e controladores de fluxo.ipynb',\n",
       " '03 Lendo arquivos de texto.ipynb',\n",
       " '04 Pacote OS.ipynb',\n",
       " 'novo_teste.txt',\n",
       " 'Pasta',\n",
       " 'Pasta0',\n",
       " 'test.txt']"
      ]
     },
     "execution_count": 82,
     "metadata": {},
     "output_type": "execute_result"
    }
   ],
   "source": [
    "# renomeando uma pasta\n",
    "os.rename('NovaPasta','Pasta')\n",
    "os.listdir()"
   ]
  },
  {
   "cell_type": "code",
   "execution_count": 83,
   "id": "0a7f1956-719f-466e-9b3d-ccef1fe2e167",
   "metadata": {},
   "outputs": [
    {
     "data": {
      "text/plain": [
       "['.ipynb_checkpoints',\n",
       " '01 Objetos e tipos de dados.ipynb',\n",
       " '02 Operadores e controladores de fluxo.ipynb',\n",
       " '03 Lendo arquivos de texto.ipynb',\n",
       " '04 Pacote OS.ipynb',\n",
       " 'arquivo_teste.txt',\n",
       " 'novo_teste.txt',\n",
       " 'Pasta',\n",
       " 'Pasta0']"
      ]
     },
     "execution_count": 83,
     "metadata": {},
     "output_type": "execute_result"
    }
   ],
   "source": [
    "# renomeando arquivos\n",
    "os.rename('test.txt','arquivo_teste.txt')\n",
    "os.listdir()"
   ]
  },
  {
   "cell_type": "code",
   "execution_count": 84,
   "id": "f7d0608c-dac8-4b19-afdc-c7df16e60333",
   "metadata": {},
   "outputs": [
    {
     "data": {
      "text/plain": [
       "['.ipynb_checkpoints',\n",
       " '01 Objetos e tipos de dados.ipynb',\n",
       " '02 Operadores e controladores de fluxo.ipynb',\n",
       " '03 Lendo arquivos de texto.ipynb',\n",
       " '04 Pacote OS.ipynb',\n",
       " 'novo_teste.txt',\n",
       " 'Pasta',\n",
       " 'Pasta0']"
      ]
     },
     "execution_count": 84,
     "metadata": {},
     "output_type": "execute_result"
    }
   ],
   "source": [
    "# deletando um arquivo\n",
    "os.remove('arquivo_teste.txt')\n",
    "os.listdir()"
   ]
  },
  {
   "cell_type": "code",
   "execution_count": 85,
   "id": "12cf1d7b-a450-4053-b994-fa7cf25aa6f1",
   "metadata": {},
   "outputs": [
    {
     "data": {
      "text/plain": [
       "['.ipynb_checkpoints',\n",
       " '01 Objetos e tipos de dados.ipynb',\n",
       " '02 Operadores e controladores de fluxo.ipynb',\n",
       " '03 Lendo arquivos de texto.ipynb',\n",
       " '04 Pacote OS.ipynb',\n",
       " 'novo_teste.txt',\n",
       " 'Pasta0']"
      ]
     },
     "execution_count": 85,
     "metadata": {},
     "output_type": "execute_result"
    }
   ],
   "source": [
    "# removendo diretório\n",
    "os.rmdir('Pasta')\n",
    "os.listdir()"
   ]
  },
  {
   "cell_type": "code",
   "execution_count": 86,
   "id": "525de937-f004-4766-9a9d-ce6a2091e20a",
   "metadata": {},
   "outputs": [
    {
     "data": {
      "text/plain": [
       "['.ipynb_checkpoints',\n",
       " '01 Objetos e tipos de dados.ipynb',\n",
       " '02 Operadores e controladores de fluxo.ipynb',\n",
       " '03 Lendo arquivos de texto.ipynb',\n",
       " '04 Pacote OS.ipynb',\n",
       " 'Pasta0']"
      ]
     },
     "execution_count": 86,
     "metadata": {},
     "output_type": "execute_result"
    }
   ],
   "source": [
    "# movendo um arquivo\n",
    "os.replace('novo_teste.txt','Pasta0\\\\novo_teste.txt')\n",
    "os.listdir()"
   ]
  },
  {
   "cell_type": "code",
   "execution_count": 90,
   "id": "becbca3b-a2b1-4a81-b31c-c686ab3dca44",
   "metadata": {},
   "outputs": [
    {
     "data": {
      "text/plain": [
       "['novo_teste.txt']"
      ]
     },
     "execution_count": 90,
     "metadata": {},
     "output_type": "execute_result"
    }
   ],
   "source": [
    "os.listdir(os.getcwd() + '\\\\Pasta0')"
   ]
  },
  {
   "cell_type": "code",
   "execution_count": 91,
   "id": "cf4636fb-69f2-46be-8cc5-1df57d74c8be",
   "metadata": {},
   "outputs": [
    {
     "data": {
      "text/plain": [
       "['.ipynb_checkpoints',\n",
       " '01 Objetos e tipos de dados.ipynb',\n",
       " '02 Operadores e controladores de fluxo.ipynb',\n",
       " '03 Lendo arquivos de texto.ipynb',\n",
       " '04 Pacote OS.ipynb',\n",
       " 'novo_teste.txt',\n",
       " 'Pasta0']"
      ]
     },
     "execution_count": 91,
     "metadata": {},
     "output_type": "execute_result"
    }
   ],
   "source": [
    "# movendo novamente\n",
    "os.replace('Pasta0\\\\novo_teste.txt','novo_teste.txt')\n",
    "os.listdir()"
   ]
  },
  {
   "cell_type": "markdown",
   "id": "7d34d7fa-0a58-4cae-b674-2909d4f56731",
   "metadata": {
    "jp-MarkdownHeadingCollapsed": true
   },
   "source": [
    "## Interando com o CMD"
   ]
  },
  {
   "cell_type": "code",
   "execution_count": 44,
   "id": "2a3a2fb0-8fb6-439b-8365-5d422cf6cc6d",
   "metadata": {},
   "outputs": [
    {
     "data": {
      "text/plain": [
       "0"
      ]
     },
     "execution_count": 44,
     "metadata": {},
     "output_type": "execute_result"
    }
   ],
   "source": [
    "# data no CMD\n",
    "os.system(\"echo %date% %time%\")"
   ]
  },
  {
   "cell_type": "markdown",
   "id": "e4e5ec27-da39-4ed7-9ac1-7e2eead683f4",
   "metadata": {},
   "source": [
    "## os.path\n",
    "Para trabalhar com as strings dos caminhos dos diretórios"
   ]
  },
  {
   "cell_type": "code",
   "execution_count": 51,
   "id": "c9fea89f-d15f-4d67-9c6f-c327f3594d8e",
   "metadata": {},
   "outputs": [
    {
     "name": "stdout",
     "output_type": "stream",
     "text": [
      "D:\\nfama\\Documents\\projetos\\akaua\\python\\01 GettingStartedWithPython\n"
     ]
    }
   ],
   "source": [
    "# diretorio atual\n",
    "dir = os.getcwd()\n",
    "print(dir)"
   ]
  },
  {
   "cell_type": "code",
   "execution_count": 52,
   "id": "b5ed32b8-0284-410a-9577-379018069883",
   "metadata": {},
   "outputs": [
    {
     "name": "stdout",
     "output_type": "stream",
     "text": [
      "D:\\nfama\\Documents\\projetos\\akaua\\python\\01 GettingStartedWithPython\\Pasta2\n"
     ]
    }
   ],
   "source": [
    "# unindo caminhos\n",
    "print(os.path.join(dir,'Pasta2'))"
   ]
  },
  {
   "cell_type": "code",
   "execution_count": 53,
   "id": "4a42f972-0dd8-420c-924f-5f4e9b4dd78c",
   "metadata": {},
   "outputs": [
    {
     "name": "stdout",
     "output_type": "stream",
     "text": [
      "D:\\nfama\\Documents\\projetos\\akaua\\python\\01 GettingStartedWithPython\\Pasta2\n"
     ]
    }
   ],
   "source": [
    "# obtendo o mesmo resultado\n",
    "print(dir + '\\\\Pasta2')"
   ]
  },
  {
   "cell_type": "code",
   "execution_count": 55,
   "id": "743207bb-1c5d-4b9f-9608-605a5256d25f",
   "metadata": {},
   "outputs": [
    {
     "name": "stdout",
     "output_type": "stream",
     "text": [
      "01 GettingStartedWithPython\n"
     ]
    }
   ],
   "source": [
    "# pasta atual\n",
    "print(os.path.basename(dir))"
   ]
  },
  {
   "cell_type": "code",
   "execution_count": 57,
   "id": "8f1ec00b-f84f-488c-b081-c6ba62949d7c",
   "metadata": {},
   "outputs": [
    {
     "data": {
      "text/plain": [
       "('D:\\\\nfama\\\\Documents\\\\projetos\\\\akaua\\\\python',\n",
       " '01 GettingStartedWithPython')"
      ]
     },
     "execution_count": 57,
     "metadata": {},
     "output_type": "execute_result"
    }
   ],
   "source": [
    "# separando o caminho anterior e a pasta atual\n",
    "os.path.split(dir)"
   ]
  },
  {
   "cell_type": "code",
   "execution_count": 58,
   "id": "6fc008bc-fe36-435a-866a-af4f06e6da24",
   "metadata": {},
   "outputs": [
    {
     "data": {
      "text/plain": [
       "'D:\\\\nfama\\\\Documents\\\\projetos\\\\akaua\\\\python'"
      ]
     },
     "execution_count": 58,
     "metadata": {},
     "output_type": "execute_result"
    }
   ],
   "source": [
    "os.path.dirname(dir)"
   ]
  },
  {
   "cell_type": "code",
   "execution_count": 60,
   "id": "abdc13fa-3102-4e59-a811-99fd3e75a993",
   "metadata": {},
   "outputs": [
    {
     "data": {
      "text/plain": [
       "False"
      ]
     },
     "execution_count": 60,
     "metadata": {},
     "output_type": "execute_result"
    }
   ],
   "source": [
    "# verifica se é um arquivo\n",
    "os.path.isfile(dir)"
   ]
  },
  {
   "cell_type": "code",
   "execution_count": 61,
   "id": "cb2e8bec-78ee-49be-ae03-61075a63e47b",
   "metadata": {},
   "outputs": [
    {
     "data": {
      "text/plain": [
       "True"
      ]
     },
     "execution_count": 61,
     "metadata": {},
     "output_type": "execute_result"
    }
   ],
   "source": [
    "# verifica se é um diretorio\n",
    "os.path.isdir(dir)"
   ]
  },
  {
   "cell_type": "code",
   "execution_count": null,
   "id": "0b7b071c-3675-4421-b36f-11cbd03861d6",
   "metadata": {},
   "outputs": [],
   "source": []
  }
 ],
 "metadata": {
  "kernelspec": {
   "display_name": "Python 3 (ipykernel)",
   "language": "python",
   "name": "python3"
  },
  "language_info": {
   "codemirror_mode": {
    "name": "ipython",
    "version": 3
   },
   "file_extension": ".py",
   "mimetype": "text/x-python",
   "name": "python",
   "nbconvert_exporter": "python",
   "pygments_lexer": "ipython3",
   "version": "3.11.9"
  }
 },
 "nbformat": 4,
 "nbformat_minor": 5
}
