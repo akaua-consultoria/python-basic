








!where python
!pip list


# atribuindo uma variável
a = 13
print(a)
print(a-10)


# reatribuindo um valor
a = a + 5
a


# método automático de "autosoma" ou "autosubtração"
a += 1
a


a -= 1
a





# número inteiro
print(2 + 1)
type(2+1)


# números decimais (ponto flutuante / float)
print(2 / 1)
type(2 / 1)








# atribuindo uma string e imprimindo
test = 'uma string teste'
print(test)


# use \n para parágrafo
print('na primeira linha \n e na segunda linha')


# usando o end= da função print
# por padrão o print finaliza com o \n
print('na primeira linha')
print(' e na segunda linha')
print('o mesmo resultado:')
print('na primeira linha', end='\n')
print(' e na segunda linha', end='\n')


# você pode alterar esse padrão
print('na primeira linha', end = '')
print(' e continuando na primeira linha')


# você também pode imprimir várias string em um único comando
print('na primeira linha', 'e continuando na primeira linha')


# conferindo o tamanho de uma string
len(test)





# usamos colchetes [] para indexar objetos no python
# a indexação inicia em 0
# vamos usar a string anterior
print(test)


# primeiro e segundo elementos
print(test[0])
print(test[1])


# utilizamos o : para fazer recortes entre índices
# o índice de início é incluído e o último excluído
print(test[0])
print(test[2])


print(test[0:3], end='\n \n')
print(test[4:10], end='\n \n')
print(test[11:16], end='\n \n')


# é possível indicar também apenas um início ou um fim
print(test[:3])


print(test[11:])


# indexação negativa (de trás para a frente)
# por exemplo, até o penúltimo caracter
print(test[:-1])


print(test[:-5])


# notação índice e fatia
# pega tudo de um em um
print(test[::1])


# vai pulando um caracter
print(test[::2])
print('u1m2 3t4e5s6t7e'[::2])


# invertendo a ordem
print(test[::-1])





# contatenando
test2 = test + ' concatenada'
print(test2)


# criando repetições
x6 = 'x'*6
print(x6)


len(x6)





# caixa alta
test.upper()


# caixa baixa
'Um Texto com Letras em Caixa Alta'.lower()


# recortando uma string por separadores
# por padrão o separador é ' '
test.split()


# alterando o separador
'Nathália,34 anos,penapolense'.split(',')


# usando o format
'a soma total foi de {}'.format(2+7)


'a soma total foi de {}'.format('nove')


print('A {nome} tem {x} anos'.format(nome='Nath', x = 34))


# lista de métodos
dir('teste')








lista = [10,20,30,40]
lista


lista2 = ['nath','caio','papagaio']
lista2


lista3 = ['nath',10,20,'caio',30,'papagaio',[0,3],40]
lista3


# cálculo do tamanho da mesma forma das strings
print(len(lista))
print('o tamanho da lista 2 é: ', len(lista2))
print('o tamanho da lista 3 é {}'.format(len(lista3)))





lista


lista[0]


lista[:-1]


# concatenando listas
lista + lista


# repetindo listas
lista*2





# criando algumas listas
n1 = ['nath',34,1]
n2 = ['caio',20,2]
n3 = ['papagaio',6,3]


### criando uma lista de listas // "matriz" de dados
dados = [n1,n2,n3]
dados


# "linha" 1
dados[0]


# "linha" 3
dados[2]


# acessando dados dentro da lista de listas
# "linha" 1, "coluna" 2
dados[0][1]





# criando algumas listas
n1 = ['nath',34,1]
n2 = ['caio',20,2]
n3 = ['papagaio',6,3]
### criando uma lista de listas // "matriz" de dados
dados = [n1,n2,n3]

# gerando os dados da "coluna" 1 da matriz anterior:
coluna = [n[0] for n in dados]
coluna


# gerando os dados da "coluna" 2 da matriz anterior:
coluna = [n[1] for n in dados]
coluna


# gerando os dados da "coluna" 3 da matriz anterior:
coluna = [n[2] for n in dados]
coluna


# usando o if junto
lista = [x for x in range(10) if x % 2 ==0]
lista





lista = [10,20,30,40,50]
print(lista)


# adicionando um elemento ao final
lista.append(60)
lista


# adicionando outra lista (dentro da lista)
lista.append([70,80])
lista


# adicionando outra lista ao final da lista
lista.extend([70,80])
lista


# contando quantas vezes um valor aparece em uma lista
print('O número 70 aparece: ',lista.count(70), 'vez(es)')
print('O número 10 aparece: {} vez(es)'.format([1,1,1,2,3,4,1].count(1)))


# inserindo o elemento 15 na segunda posição (index=1)
lista.insert(1,15)
lista


# retirando o útimo elemento de uma lista
ultimo = lista.pop()
print('Último elemento: {}, lista restante: {}'.format(ultimo, lista))

ultimo = lista.pop()
print('Penúltimo elemento: {}, lista restante: {}'.format(ultimo, lista))


# retirando um elemento de um índice específico
# por exemplo o primeiro da fila
i = 0
elemento_retirado = lista.pop(i)
print('Primeiro da fila: {}, fila restante: {}'.format(elemento_retirado, lista))


# removendo um elemento específico
lista.remove([70,80])
lista


# revertendo a ordem dos elementos
lista.reverse()
lista


# ordenando
lista.sort()
lista


# ordenando decrescente
lista.sort(reverse = True)
print(lista)

# ou usando o método .reverse()
[2,1,6,9,0,4,7].reverse()








# criando um dicionário vazio
d = {}
d


# criando um dicionário com chaves e valores
dic = {'chave1':20, 'chave2':25}
dic


# retornando valores pelas chaves
dic['chave1']


# alterando valores
dic['chave1'] = 40
dic


# adicionando novos pares de chave/valor
dic['chave3']=59
dic


# dicionários aninhados
dic2 = {
    'chave1':{
        'subchave1':1,
        'subchave2':2 
    },
    'chave2':{
        'subchave1':3,
        'subchave2':4 
    }
}
dic2


# acessando os níveis
dic2['chave1']['subchave2']





dic


# listando as chaves
dic.keys()


# listando valores
dic.values()


# listando tuplas de chave valores
dic.items()








# construindo uma tupla
tup = (0,1,2)
tup


# também podemos calcular o tamanho das tuplas
len(tup)


# também é possível usar diferentes tipos de dados
tup2 = (0,'nath',2)
tup2


# e da mesma forma podem ser indexadas 
tup[1]


# e acessadas
tup[:1]


# tentando mudar uma tupla
tup[0] = 2


# atribuição de variáveis
a, b = (1,2)
print(a,b)





# retornando o índice de um valor
tup2.index('nath')


# calculando a frequência de um determinado valor
tup = (0,1,1,0,9,4,7,1,1)
tup.count(1)








conj = set()
conj


# adicionando um elemento
conj.add(0)
conj


# adicionando outro elemento
conj.add(10)
conj


# adicionando um mesmo elemento
conj.add(0)
conj


# transformando uma lista em conjunto para retornar apenas valores únicos
lista = [1,3,3,3,2,1,4,5,6,54,8,7,6,9,0,9,9,0,8,76,4,3,]
lista


conj = set(lista)
conj


conj.add(35)
conj





A = set([0,1,2,3])
B = set([2,3,4,5])


# calculando a intersecção
A.intersection(B)


# calculando a união
A.union(B)





True


False


1 > 2


1 < 2


type(True)
