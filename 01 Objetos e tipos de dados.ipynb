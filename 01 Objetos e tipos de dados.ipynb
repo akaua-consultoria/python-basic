{
 "cells": [
  {
   "cell_type": "markdown",
   "id": "e8cdd082-1807-449a-a531-5f5cb149a121",
   "metadata": {},
   "source": [
    "# Objetos e tipos de dados"
   ]
  },
  {
   "cell_type": "markdown",
   "id": "ed1d0878-25f8-4a3d-8fff-2c22df0ee470",
   "metadata": {},
   "source": [
    "Entendendo conceitos básicos, os principais objetos e seus métodos."
   ]
  },
  {
   "cell_type": "markdown",
   "id": "12eb74be-359c-40dc-ac9f-baaaef6d8a3d",
   "metadata": {},
   "source": [
    "## 1. Atribuição de variável"
   ]
  },
  {
   "cell_type": "code",
   "execution_count": 69,
   "id": "96f323c8-4368-4f68-b77a-d94459229fdf",
   "metadata": {},
   "outputs": [
    {
     "name": "stdout",
     "output_type": "stream",
     "text": [
      "13\n",
      "3\n"
     ]
    }
   ],
   "source": [
    "# atribuindo uma variável\n",
    "a = 13\n",
    "print(a)\n",
    "print(a-10)"
   ]
  },
  {
   "cell_type": "code",
   "execution_count": 70,
   "id": "534ee6a4-859e-4737-9538-ab230164acef",
   "metadata": {},
   "outputs": [
    {
     "data": {
      "text/plain": [
       "18"
      ]
     },
     "execution_count": 70,
     "metadata": {},
     "output_type": "execute_result"
    }
   ],
   "source": [
    "# reatribuindo um valor\n",
    "a = a + 5\n",
    "a"
   ]
  },
  {
   "cell_type": "code",
   "execution_count": 71,
   "id": "f3ebc2af-0f43-4f44-a5c3-d13f25bee1f6",
   "metadata": {},
   "outputs": [
    {
     "data": {
      "text/plain": [
       "19"
      ]
     },
     "execution_count": 71,
     "metadata": {},
     "output_type": "execute_result"
    }
   ],
   "source": [
    "# método automático de \"autosoma\" ou \"autosubtração\"\n",
    "a += 1\n",
    "a"
   ]
  },
  {
   "cell_type": "code",
   "execution_count": 72,
   "id": "3203520a-305e-459c-9617-3d50dacd910a",
   "metadata": {},
   "outputs": [
    {
     "data": {
      "text/plain": [
       "18"
      ]
     },
     "execution_count": 72,
     "metadata": {},
     "output_type": "execute_result"
    }
   ],
   "source": [
    "a -= 1\n",
    "a"
   ]
  },
  {
   "cell_type": "markdown",
   "id": "d4dcb5f1-9cd7-457f-9e4f-68bcf0ef5761",
   "metadata": {
    "jp-MarkdownHeadingCollapsed": true
   },
   "source": [
    "## 2. Números"
   ]
  },
  {
   "cell_type": "code",
   "execution_count": 73,
   "id": "231e7bc3-e08d-42cd-a7b5-bfae4263be90",
   "metadata": {},
   "outputs": [
    {
     "name": "stdout",
     "output_type": "stream",
     "text": [
      "3\n"
     ]
    },
    {
     "data": {
      "text/plain": [
       "int"
      ]
     },
     "execution_count": 73,
     "metadata": {},
     "output_type": "execute_result"
    }
   ],
   "source": [
    "# número inteiro\n",
    "print(2 + 1)\n",
    "type(2+1)"
   ]
  },
  {
   "cell_type": "code",
   "execution_count": 74,
   "id": "ac268942-babc-49ef-9a9f-7ba7cb16a37e",
   "metadata": {},
   "outputs": [
    {
     "name": "stdout",
     "output_type": "stream",
     "text": [
      "2.0\n"
     ]
    },
    {
     "data": {
      "text/plain": [
       "float"
      ]
     },
     "execution_count": 74,
     "metadata": {},
     "output_type": "execute_result"
    }
   ],
   "source": [
    "# números decimais (ponto flutuante / float)\n",
    "print(2 / 1)\n",
    "type(2 / 1)"
   ]
  },
  {
   "cell_type": "markdown",
   "id": "df1c9021-6cb2-4e16-acc3-c58a800f0604",
   "metadata": {
    "jp-MarkdownHeadingCollapsed": true
   },
   "source": [
    "## 3. Strings\n",
    "Armazenam dados em formato de texto"
   ]
  },
  {
   "cell_type": "markdown",
   "id": "d6177ff6-ae8c-4749-aa4e-861c63ec082b",
   "metadata": {},
   "source": [
    "### Básico"
   ]
  },
  {
   "cell_type": "code",
   "execution_count": 75,
   "id": "7751c9ad-f22b-40b9-9dc7-bc08c807c95f",
   "metadata": {},
   "outputs": [
    {
     "name": "stdout",
     "output_type": "stream",
     "text": [
      "uma string teste\n"
     ]
    }
   ],
   "source": [
    "# atribuindo uma string e imprimindo\n",
    "test = 'uma string teste'\n",
    "print(test)"
   ]
  },
  {
   "cell_type": "code",
   "execution_count": 76,
   "id": "2558658b-af16-486c-9923-fcc91a983b32",
   "metadata": {},
   "outputs": [
    {
     "name": "stdout",
     "output_type": "stream",
     "text": [
      "na primeira linha \n",
      " e na segunda linha\n"
     ]
    }
   ],
   "source": [
    "# use \\n para parágrafo\n",
    "print('na primeira linha \\n e na segunda linha')"
   ]
  },
  {
   "cell_type": "code",
   "execution_count": 77,
   "id": "4d9d15e5-2dae-49b2-9ad1-2c22d6fb4d89",
   "metadata": {},
   "outputs": [
    {
     "name": "stdout",
     "output_type": "stream",
     "text": [
      "na primeira linha\n",
      " e na segunda linha\n",
      "o mesmo resultado:\n",
      "na primeira linha\n",
      " e na segunda linha\n"
     ]
    }
   ],
   "source": [
    "# usando o end= da função print\n",
    "# por padrão o print finaliza com o \\n\n",
    "print('na primeira linha')\n",
    "print(' e na segunda linha')\n",
    "print('o mesmo resultado:')\n",
    "print('na primeira linha', end='\\n')\n",
    "print(' e na segunda linha', end='\\n')"
   ]
  },
  {
   "cell_type": "code",
   "execution_count": 78,
   "id": "f9387a21-a945-4b55-afcf-4e3017722e6e",
   "metadata": {},
   "outputs": [
    {
     "name": "stdout",
     "output_type": "stream",
     "text": [
      "na primeira linha e continuando na primeira linha\n"
     ]
    }
   ],
   "source": [
    "# você pode alterar esse padrão\n",
    "print('na primeira linha', end = '')\n",
    "print(' e continuando na primeira linha')"
   ]
  },
  {
   "cell_type": "code",
   "execution_count": 79,
   "id": "93e1d9c6-1700-4a89-8708-f4fe805c8b9b",
   "metadata": {},
   "outputs": [
    {
     "name": "stdout",
     "output_type": "stream",
     "text": [
      "na primeira linha e continuando na primeira linha\n"
     ]
    }
   ],
   "source": [
    "# você também pode imprimir várias string em um único comando\n",
    "print('na primeira linha', 'e continuando na primeira linha')"
   ]
  },
  {
   "cell_type": "code",
   "execution_count": 80,
   "id": "8142ab1e-c4a3-4b38-beb4-ea5c18f5f1fb",
   "metadata": {},
   "outputs": [
    {
     "data": {
      "text/plain": [
       "16"
      ]
     },
     "execution_count": 80,
     "metadata": {},
     "output_type": "execute_result"
    }
   ],
   "source": [
    "# conferindo o tamanho de uma string\n",
    "len(test)"
   ]
  },
  {
   "cell_type": "markdown",
   "id": "147525f2-b821-4cdb-87f6-dc82754fa02d",
   "metadata": {
    "jp-MarkdownHeadingCollapsed": true
   },
   "source": [
    "### Indexação"
   ]
  },
  {
   "cell_type": "code",
   "execution_count": 81,
   "id": "97b7d492-52a4-4c0f-9373-d292fd48d263",
   "metadata": {},
   "outputs": [
    {
     "name": "stdout",
     "output_type": "stream",
     "text": [
      "uma string teste\n"
     ]
    }
   ],
   "source": [
    "# usamos colchetes [] para indexar objetos no python\n",
    "# a indexação inicia em 0\n",
    "# vamos usar a string anterior\n",
    "print(test)"
   ]
  },
  {
   "cell_type": "code",
   "execution_count": 82,
   "id": "4f9a7b92-0121-4de9-8ea9-a7658899a78a",
   "metadata": {},
   "outputs": [
    {
     "name": "stdout",
     "output_type": "stream",
     "text": [
      "u\n",
      "m\n"
     ]
    }
   ],
   "source": [
    "# primeiro e segundo elementos\n",
    "print(test[0])\n",
    "print(test[1])"
   ]
  },
  {
   "cell_type": "code",
   "execution_count": 83,
   "id": "200151ce-4a70-4426-8190-8fe3f40d08c1",
   "metadata": {},
   "outputs": [
    {
     "name": "stdout",
     "output_type": "stream",
     "text": [
      "u\n",
      "a\n"
     ]
    }
   ],
   "source": [
    "# utilizamos o : para fazer recortes entre índices\n",
    "# o índice de início é incluído e o último excluído\n",
    "print(test[0])\n",
    "print(test[2])"
   ]
  },
  {
   "cell_type": "code",
   "execution_count": 84,
   "id": "afeec250-c1f9-4ca1-a5f6-f740d629d7fc",
   "metadata": {},
   "outputs": [
    {
     "name": "stdout",
     "output_type": "stream",
     "text": [
      "uma\n",
      " \n",
      "string\n",
      " \n",
      "teste\n",
      " \n"
     ]
    }
   ],
   "source": [
    "print(test[0:3], end='\\n \\n')\n",
    "print(test[4:10], end='\\n \\n')\n",
    "print(test[11:16], end='\\n \\n')"
   ]
  },
  {
   "cell_type": "code",
   "execution_count": 85,
   "id": "845d57a5-61e3-462d-8ad3-af517df8ad06",
   "metadata": {},
   "outputs": [
    {
     "name": "stdout",
     "output_type": "stream",
     "text": [
      "uma\n"
     ]
    }
   ],
   "source": [
    "# é possível indicar também apenas um início ou um fim\n",
    "print(test[:3])"
   ]
  },
  {
   "cell_type": "code",
   "execution_count": 86,
   "id": "aef39088-95a8-4729-b854-1ed9ce48925b",
   "metadata": {},
   "outputs": [
    {
     "name": "stdout",
     "output_type": "stream",
     "text": [
      "teste\n"
     ]
    }
   ],
   "source": [
    "print(test[11:])"
   ]
  },
  {
   "cell_type": "code",
   "execution_count": 87,
   "id": "a8f5f479-01b6-4ffb-abee-9e85fd380e96",
   "metadata": {},
   "outputs": [
    {
     "name": "stdout",
     "output_type": "stream",
     "text": [
      "uma string test\n"
     ]
    }
   ],
   "source": [
    "# indexação negativa (de trás para a frente)\n",
    "# por exemplo, até o penúltimo caracter\n",
    "print(test[:-1])"
   ]
  },
  {
   "cell_type": "code",
   "execution_count": 88,
   "id": "2950a053-6683-45e6-83e9-6e03a1c816fb",
   "metadata": {},
   "outputs": [
    {
     "name": "stdout",
     "output_type": "stream",
     "text": [
      "uma string \n"
     ]
    }
   ],
   "source": [
    "print(test[:-5])"
   ]
  },
  {
   "cell_type": "code",
   "execution_count": 89,
   "id": "d4f23a06-8cdf-4742-9dc6-6be973fc7a0e",
   "metadata": {},
   "outputs": [
    {
     "name": "stdout",
     "output_type": "stream",
     "text": [
      "uma string teste\n"
     ]
    }
   ],
   "source": [
    "# notação índice e fatia\n",
    "# pega tudo de um em um\n",
    "print(test[::1])"
   ]
  },
  {
   "cell_type": "code",
   "execution_count": 90,
   "id": "04b14dc3-a7a1-4f16-92aa-2f7f35db3e60",
   "metadata": {},
   "outputs": [
    {
     "name": "stdout",
     "output_type": "stream",
     "text": [
      "uasrn et\n",
      "um teste\n"
     ]
    }
   ],
   "source": [
    "# vai pulando um caracter\n",
    "print(test[::2])\n",
    "print('u1m2 3t4e5s6t7e'[::2])"
   ]
  },
  {
   "cell_type": "code",
   "execution_count": 91,
   "id": "8c7666ed-c4b6-41b8-9b61-f708c6ffeacb",
   "metadata": {},
   "outputs": [
    {
     "name": "stdout",
     "output_type": "stream",
     "text": [
      "etset gnirts amu\n"
     ]
    }
   ],
   "source": [
    "# invertendo a ordem\n",
    "print(test[::-1])"
   ]
  },
  {
   "cell_type": "markdown",
   "id": "3433b43f-685a-40a8-9c8a-abf7ad4525c3",
   "metadata": {
    "jp-MarkdownHeadingCollapsed": true
   },
   "source": [
    "### Operações"
   ]
  },
  {
   "cell_type": "code",
   "execution_count": 92,
   "id": "3ea343c3-02bc-420e-98b3-0e3af8a1d04a",
   "metadata": {},
   "outputs": [
    {
     "name": "stdout",
     "output_type": "stream",
     "text": [
      "uma string teste concatenada\n"
     ]
    }
   ],
   "source": [
    "# contatenando\n",
    "test2 = test + ' concatenada'\n",
    "print(test2)"
   ]
  },
  {
   "cell_type": "code",
   "execution_count": 93,
   "id": "240bccc6-5ca0-41b2-866f-d89f78e7f602",
   "metadata": {},
   "outputs": [
    {
     "name": "stdout",
     "output_type": "stream",
     "text": [
      "xxxxxx\n"
     ]
    }
   ],
   "source": [
    "# criando repetições\n",
    "x6 = 'x'*6\n",
    "print(x6)"
   ]
  },
  {
   "cell_type": "code",
   "execution_count": 94,
   "id": "c1563aeb-b075-441b-be99-b584d7b52377",
   "metadata": {},
   "outputs": [
    {
     "data": {
      "text/plain": [
       "6"
      ]
     },
     "execution_count": 94,
     "metadata": {},
     "output_type": "execute_result"
    }
   ],
   "source": [
    "len(x6)"
   ]
  },
  {
   "cell_type": "markdown",
   "id": "5d657601-c566-4880-a92f-3ae53753d699",
   "metadata": {
    "jp-MarkdownHeadingCollapsed": true
   },
   "source": [
    "### Métodos\n",
    "Métodos são funções imbutidas de objetos e são utilizados na forma: object.method(params)"
   ]
  },
  {
   "cell_type": "code",
   "execution_count": 95,
   "id": "aa0954ca-5bb9-4e5e-80d5-5ff70f75d0f3",
   "metadata": {},
   "outputs": [
    {
     "data": {
      "text/plain": [
       "'UMA STRING TESTE'"
      ]
     },
     "execution_count": 95,
     "metadata": {},
     "output_type": "execute_result"
    }
   ],
   "source": [
    "# caixa alta\n",
    "test.upper()"
   ]
  },
  {
   "cell_type": "code",
   "execution_count": 96,
   "id": "41b951b4-4053-4f36-b31c-cc0b06a4b5cd",
   "metadata": {},
   "outputs": [
    {
     "data": {
      "text/plain": [
       "'um texto com letras em caixa alta'"
      ]
     },
     "execution_count": 96,
     "metadata": {},
     "output_type": "execute_result"
    }
   ],
   "source": [
    "# caixa baixa\n",
    "'Um Texto com Letras em Caixa Alta'.lower()"
   ]
  },
  {
   "cell_type": "code",
   "execution_count": 97,
   "id": "b7bddde4-5f4c-4626-aad0-5454fc72839e",
   "metadata": {},
   "outputs": [
    {
     "data": {
      "text/plain": [
       "['uma', 'string', 'teste']"
      ]
     },
     "execution_count": 97,
     "metadata": {},
     "output_type": "execute_result"
    }
   ],
   "source": [
    "# recortando uma string por separadores\n",
    "# por padrão o separador é ' '\n",
    "test.split()"
   ]
  },
  {
   "cell_type": "code",
   "execution_count": 98,
   "id": "65fba558-ab25-46df-93b2-0e924ff626ea",
   "metadata": {},
   "outputs": [
    {
     "data": {
      "text/plain": [
       "['Nathália', '34 anos', 'penapolense']"
      ]
     },
     "execution_count": 98,
     "metadata": {},
     "output_type": "execute_result"
    }
   ],
   "source": [
    "# alterando o separador\n",
    "'Nathália,34 anos,penapolense'.split(',')"
   ]
  },
  {
   "cell_type": "code",
   "execution_count": 99,
   "id": "c64b84c6-22c8-4369-a46f-16d9ae0b2db9",
   "metadata": {},
   "outputs": [
    {
     "data": {
      "text/plain": [
       "'a soma total foi de 9'"
      ]
     },
     "execution_count": 99,
     "metadata": {},
     "output_type": "execute_result"
    }
   ],
   "source": [
    "# usando o format\n",
    "'a soma total foi de {}'.format(2+7)"
   ]
  },
  {
   "cell_type": "code",
   "execution_count": 100,
   "id": "b19ffdf3-967d-44b4-a342-74598c6bee49",
   "metadata": {},
   "outputs": [
    {
     "data": {
      "text/plain": [
       "'a soma total foi de nove'"
      ]
     },
     "execution_count": 100,
     "metadata": {},
     "output_type": "execute_result"
    }
   ],
   "source": [
    "'a soma total foi de {}'.format('nove')"
   ]
  },
  {
   "cell_type": "code",
   "execution_count": 101,
   "id": "84fc5cde-be37-490a-a66d-ffc9052f9c48",
   "metadata": {},
   "outputs": [
    {
     "name": "stdout",
     "output_type": "stream",
     "text": [
      "A Nath tem 34 anos\n"
     ]
    }
   ],
   "source": [
    "print('A {nome} tem {x} anos'.format(nome='Nath', x = 34))"
   ]
  },
  {
   "cell_type": "code",
   "execution_count": 102,
   "id": "fabb9c72-d7da-4c22-9bfb-5082c5e66ebd",
   "metadata": {},
   "outputs": [
    {
     "data": {
      "text/plain": [
       "['__add__',\n",
       " '__class__',\n",
       " '__contains__',\n",
       " '__delattr__',\n",
       " '__dir__',\n",
       " '__doc__',\n",
       " '__eq__',\n",
       " '__format__',\n",
       " '__ge__',\n",
       " '__getattribute__',\n",
       " '__getitem__',\n",
       " '__getnewargs__',\n",
       " '__getstate__',\n",
       " '__gt__',\n",
       " '__hash__',\n",
       " '__init__',\n",
       " '__init_subclass__',\n",
       " '__iter__',\n",
       " '__le__',\n",
       " '__len__',\n",
       " '__lt__',\n",
       " '__mod__',\n",
       " '__mul__',\n",
       " '__ne__',\n",
       " '__new__',\n",
       " '__reduce__',\n",
       " '__reduce_ex__',\n",
       " '__repr__',\n",
       " '__rmod__',\n",
       " '__rmul__',\n",
       " '__setattr__',\n",
       " '__sizeof__',\n",
       " '__str__',\n",
       " '__subclasshook__',\n",
       " 'capitalize',\n",
       " 'casefold',\n",
       " 'center',\n",
       " 'count',\n",
       " 'encode',\n",
       " 'endswith',\n",
       " 'expandtabs',\n",
       " 'find',\n",
       " 'format',\n",
       " 'format_map',\n",
       " 'index',\n",
       " 'isalnum',\n",
       " 'isalpha',\n",
       " 'isascii',\n",
       " 'isdecimal',\n",
       " 'isdigit',\n",
       " 'isidentifier',\n",
       " 'islower',\n",
       " 'isnumeric',\n",
       " 'isprintable',\n",
       " 'isspace',\n",
       " 'istitle',\n",
       " 'isupper',\n",
       " 'join',\n",
       " 'ljust',\n",
       " 'lower',\n",
       " 'lstrip',\n",
       " 'maketrans',\n",
       " 'partition',\n",
       " 'removeprefix',\n",
       " 'removesuffix',\n",
       " 'replace',\n",
       " 'rfind',\n",
       " 'rindex',\n",
       " 'rjust',\n",
       " 'rpartition',\n",
       " 'rsplit',\n",
       " 'rstrip',\n",
       " 'split',\n",
       " 'splitlines',\n",
       " 'startswith',\n",
       " 'strip',\n",
       " 'swapcase',\n",
       " 'title',\n",
       " 'translate',\n",
       " 'upper',\n",
       " 'zfill']"
      ]
     },
     "execution_count": 102,
     "metadata": {},
     "output_type": "execute_result"
    }
   ],
   "source": [
    "# lista de métodos\n",
    "dir('teste')"
   ]
  },
  {
   "cell_type": "markdown",
   "id": "1d8600d8-9f99-4a3d-8db7-cd54ddae6bbf",
   "metadata": {
    "jp-MarkdownHeadingCollapsed": true
   },
   "source": [
    "## 4. Listas\n",
    "São atribuidas com o uso dos colchetes. \n",
    "Podem conter diversos objetos (inclusive diferentes tipos em uma mesma lista) e outras listas também."
   ]
  },
  {
   "cell_type": "markdown",
   "id": "2334d0e2-93f4-41c8-959d-b94d6ee0da3e",
   "metadata": {
    "jp-MarkdownHeadingCollapsed": true
   },
   "source": [
    "### Básico"
   ]
  },
  {
   "cell_type": "code",
   "execution_count": 103,
   "id": "4277a9fa-2f96-4258-a214-6b8cf0d4381a",
   "metadata": {},
   "outputs": [
    {
     "data": {
      "text/plain": [
       "[10, 20, 30, 40]"
      ]
     },
     "execution_count": 103,
     "metadata": {},
     "output_type": "execute_result"
    }
   ],
   "source": [
    "lista = [10,20,30,40]\n",
    "lista"
   ]
  },
  {
   "cell_type": "code",
   "execution_count": 104,
   "id": "ae196eb6-4680-4e95-97e8-476b685fb1ec",
   "metadata": {},
   "outputs": [
    {
     "data": {
      "text/plain": [
       "['nath', 'caio', 'papagaio']"
      ]
     },
     "execution_count": 104,
     "metadata": {},
     "output_type": "execute_result"
    }
   ],
   "source": [
    "lista2 = ['nath','caio','papagaio']\n",
    "lista2"
   ]
  },
  {
   "cell_type": "code",
   "execution_count": 105,
   "id": "0478b954-f543-4ff9-822f-57a531d1a729",
   "metadata": {},
   "outputs": [
    {
     "data": {
      "text/plain": [
       "['nath', 10, 20, 'caio', 30, 'papagaio', [0, 3], 40]"
      ]
     },
     "execution_count": 105,
     "metadata": {},
     "output_type": "execute_result"
    }
   ],
   "source": [
    "lista3 = ['nath',10,20,'caio',30,'papagaio',[0,3],40]\n",
    "lista3"
   ]
  },
  {
   "cell_type": "code",
   "execution_count": 106,
   "id": "fa2a8c1b-e838-41f1-9d2c-aba204acfcba",
   "metadata": {},
   "outputs": [
    {
     "name": "stdout",
     "output_type": "stream",
     "text": [
      "4\n",
      "o tamanho da lista 2 é:  3\n",
      "o tamanho da lista 3 é 8\n"
     ]
    }
   ],
   "source": [
    "# cálculo do tamanho da mesma forma das strings\n",
    "print(len(lista))\n",
    "print('o tamanho da lista 2 é: ', len(lista2))\n",
    "print('o tamanho da lista 3 é {}'.format(len(lista3)))"
   ]
  },
  {
   "cell_type": "markdown",
   "id": "10d5a82a-e05c-4893-9001-e86fdee54c2f",
   "metadata": {
    "jp-MarkdownHeadingCollapsed": true
   },
   "source": [
    "### Indexação e recortes\n",
    "Também idêntico às strings"
   ]
  },
  {
   "cell_type": "code",
   "execution_count": 107,
   "id": "d6462841-7845-49ec-acbd-54f1b56c7eee",
   "metadata": {},
   "outputs": [
    {
     "data": {
      "text/plain": [
       "[10, 20, 30, 40]"
      ]
     },
     "execution_count": 107,
     "metadata": {},
     "output_type": "execute_result"
    }
   ],
   "source": [
    "lista"
   ]
  },
  {
   "cell_type": "code",
   "execution_count": 108,
   "id": "e8adad67-f51e-438f-ab7c-f0cb891f43c7",
   "metadata": {},
   "outputs": [
    {
     "data": {
      "text/plain": [
       "10"
      ]
     },
     "execution_count": 108,
     "metadata": {},
     "output_type": "execute_result"
    }
   ],
   "source": [
    "lista[0]"
   ]
  },
  {
   "cell_type": "code",
   "execution_count": 109,
   "id": "16240078-201f-484d-bac1-21fc94931ca4",
   "metadata": {},
   "outputs": [
    {
     "data": {
      "text/plain": [
       "[10, 20, 30]"
      ]
     },
     "execution_count": 109,
     "metadata": {},
     "output_type": "execute_result"
    }
   ],
   "source": [
    "lista[:-1]"
   ]
  },
  {
   "cell_type": "code",
   "execution_count": 110,
   "id": "c195cdf3-cdce-46be-b170-e9573644ffdb",
   "metadata": {},
   "outputs": [
    {
     "data": {
      "text/plain": [
       "[10, 20, 30, 40, 10, 20, 30, 40]"
      ]
     },
     "execution_count": 110,
     "metadata": {},
     "output_type": "execute_result"
    }
   ],
   "source": [
    "# concatenando listas\n",
    "lista + lista"
   ]
  },
  {
   "cell_type": "code",
   "execution_count": 111,
   "id": "3a09014b-e4fd-4cd3-a432-002343a37bc6",
   "metadata": {},
   "outputs": [
    {
     "data": {
      "text/plain": [
       "[10, 20, 30, 40, 10, 20, 30, 40]"
      ]
     },
     "execution_count": 111,
     "metadata": {},
     "output_type": "execute_result"
    }
   ],
   "source": [
    "# repetindo listas\n",
    "lista*2"
   ]
  },
  {
   "cell_type": "markdown",
   "id": "be09dd80-7938-4d79-b999-bdf88b7afe00",
   "metadata": {
    "jp-MarkdownHeadingCollapsed": true
   },
   "source": [
    "### Listas aninhadas\n",
    "Listas de listas"
   ]
  },
  {
   "cell_type": "code",
   "execution_count": 112,
   "id": "e98fa0eb-5880-402d-b767-ca394b82c958",
   "metadata": {},
   "outputs": [],
   "source": [
    "# criando algumas listas\n",
    "n1 = ['nath',34,1]\n",
    "n2 = ['caio',20,2]\n",
    "n3 = ['papagaio',6,3]"
   ]
  },
  {
   "cell_type": "code",
   "execution_count": 113,
   "id": "bad04d7c-dbe5-4be7-b018-56623e08d480",
   "metadata": {},
   "outputs": [
    {
     "data": {
      "text/plain": [
       "[['nath', 34, 1], ['caio', 20, 2], ['papagaio', 6, 3]]"
      ]
     },
     "execution_count": 113,
     "metadata": {},
     "output_type": "execute_result"
    }
   ],
   "source": [
    "### criando uma lista de listas // \"matriz\" de dados\n",
    "dados = [n1,n2,n3]\n",
    "dados"
   ]
  },
  {
   "cell_type": "code",
   "execution_count": 114,
   "id": "ecfeca36-95f3-4275-a153-d9cfffdd3b36",
   "metadata": {},
   "outputs": [
    {
     "data": {
      "text/plain": [
       "['nath', 34, 1]"
      ]
     },
     "execution_count": 114,
     "metadata": {},
     "output_type": "execute_result"
    }
   ],
   "source": [
    "# \"linha\" 1\n",
    "dados[0]"
   ]
  },
  {
   "cell_type": "code",
   "execution_count": 115,
   "id": "3a8029fc-f02b-49ac-8154-fdb5e8fb5afa",
   "metadata": {},
   "outputs": [
    {
     "data": {
      "text/plain": [
       "['papagaio', 6, 3]"
      ]
     },
     "execution_count": 115,
     "metadata": {},
     "output_type": "execute_result"
    }
   ],
   "source": [
    "# \"linha\" 3\n",
    "dados[2]"
   ]
  },
  {
   "cell_type": "code",
   "execution_count": 116,
   "id": "1a9e1386-5548-4407-8748-6ec275323fa1",
   "metadata": {},
   "outputs": [
    {
     "data": {
      "text/plain": [
       "34"
      ]
     },
     "execution_count": 116,
     "metadata": {},
     "output_type": "execute_result"
    }
   ],
   "source": [
    "# acessando dados dentro da lista de listas\n",
    "# \"linha\" 1, \"coluna\" 2\n",
    "dados[0][1]"
   ]
  },
  {
   "cell_type": "markdown",
   "id": "1e71a3c8-37b9-4c60-9bdc-e38c876e0a15",
   "metadata": {
    "jp-MarkdownHeadingCollapsed": true
   },
   "source": [
    "### List comprehension\n",
    "Uma maneira rápida de criar lista iterando sobre valores"
   ]
  },
  {
   "cell_type": "code",
   "execution_count": 117,
   "id": "95e48ec2-bf40-4a32-a901-e9e4ae391f1e",
   "metadata": {},
   "outputs": [
    {
     "data": {
      "text/plain": [
       "['nath', 'caio', 'papagaio']"
      ]
     },
     "execution_count": 117,
     "metadata": {},
     "output_type": "execute_result"
    }
   ],
   "source": [
    "# criando algumas listas\n",
    "n1 = ['nath',34,1]\n",
    "n2 = ['caio',20,2]\n",
    "n3 = ['papagaio',6,3]\n",
    "### criando uma lista de listas // \"matriz\" de dados\n",
    "dados = [n1,n2,n3]\n",
    "\n",
    "# gerando os dados da \"coluna\" 1 da matriz anterior:\n",
    "coluna = [n[0] for n in dados]\n",
    "coluna"
   ]
  },
  {
   "cell_type": "code",
   "execution_count": 118,
   "id": "790ffa95-d0c4-4470-9593-a582caddc0fb",
   "metadata": {},
   "outputs": [
    {
     "data": {
      "text/plain": [
       "[34, 20, 6]"
      ]
     },
     "execution_count": 118,
     "metadata": {},
     "output_type": "execute_result"
    }
   ],
   "source": [
    "# gerando os dados da \"coluna\" 2 da matriz anterior:\n",
    "coluna = [n[1] for n in dados]\n",
    "coluna"
   ]
  },
  {
   "cell_type": "code",
   "execution_count": 119,
   "id": "1a03190f-5b58-4b91-b428-0281aff723b3",
   "metadata": {},
   "outputs": [
    {
     "data": {
      "text/plain": [
       "[1, 2, 3]"
      ]
     },
     "execution_count": 119,
     "metadata": {},
     "output_type": "execute_result"
    }
   ],
   "source": [
    "# gerando os dados da \"coluna\" 3 da matriz anterior:\n",
    "coluna = [n[2] for n in dados]\n",
    "coluna"
   ]
  },
  {
   "cell_type": "code",
   "execution_count": 120,
   "id": "0bb0e59b-4afc-4b66-b6cd-2baab922f7dd",
   "metadata": {},
   "outputs": [
    {
     "data": {
      "text/plain": [
       "[0, 2, 4, 6, 8]"
      ]
     },
     "execution_count": 120,
     "metadata": {},
     "output_type": "execute_result"
    }
   ],
   "source": [
    "# usando o if junto\n",
    "lista = [x for x in range(10) if x % 2 ==0]\n",
    "lista"
   ]
  },
  {
   "cell_type": "markdown",
   "id": "fe885102-dfc2-40cd-8186-9c405417a83a",
   "metadata": {
    "jp-MarkdownHeadingCollapsed": true
   },
   "source": [
    "#### Métodos"
   ]
  },
  {
   "cell_type": "code",
   "execution_count": 121,
   "id": "7c03d4dc-bcff-49ae-b198-31b25e631698",
   "metadata": {},
   "outputs": [
    {
     "name": "stdout",
     "output_type": "stream",
     "text": [
      "[10, 20, 30, 40, 50]\n"
     ]
    }
   ],
   "source": [
    "lista = [10,20,30,40,50]\n",
    "print(lista)"
   ]
  },
  {
   "cell_type": "code",
   "execution_count": 122,
   "id": "a003d943-c15a-4a94-8b24-1bdaeef0205b",
   "metadata": {},
   "outputs": [
    {
     "data": {
      "text/plain": [
       "[10, 20, 30, 40, 50, 60]"
      ]
     },
     "execution_count": 122,
     "metadata": {},
     "output_type": "execute_result"
    }
   ],
   "source": [
    "# adicionando um elemento ao final\n",
    "lista.append(60)\n",
    "lista"
   ]
  },
  {
   "cell_type": "code",
   "execution_count": 123,
   "id": "3e94ad9e-1d0b-4469-959e-1b61347d823e",
   "metadata": {},
   "outputs": [
    {
     "data": {
      "text/plain": [
       "[10, 20, 30, 40, 50, 60, [70, 80]]"
      ]
     },
     "execution_count": 123,
     "metadata": {},
     "output_type": "execute_result"
    }
   ],
   "source": [
    "# adicionando outra lista (dentro da lista)\n",
    "lista.append([70,80])\n",
    "lista"
   ]
  },
  {
   "cell_type": "code",
   "execution_count": 124,
   "id": "228fbe4d-ff74-416b-9675-98d97eb9c5d7",
   "metadata": {},
   "outputs": [
    {
     "data": {
      "text/plain": [
       "[10, 20, 30, 40, 50, 60, [70, 80], 70, 80]"
      ]
     },
     "execution_count": 124,
     "metadata": {},
     "output_type": "execute_result"
    }
   ],
   "source": [
    "# adicionando outra lista ao final da lista\n",
    "lista.extend([70,80])\n",
    "lista"
   ]
  },
  {
   "cell_type": "code",
   "execution_count": 125,
   "id": "1013f6c0-6bd0-4840-863b-e9b6d8e66896",
   "metadata": {},
   "outputs": [
    {
     "name": "stdout",
     "output_type": "stream",
     "text": [
      "O número 70 aparece:  1 vez(es)\n",
      "O número 10 aparece: 4 vez(es)\n"
     ]
    }
   ],
   "source": [
    "# contando quantas vezes um valor aparece em uma lista\n",
    "print('O número 70 aparece: ',lista.count(70), 'vez(es)')\n",
    "print('O número 10 aparece: {} vez(es)'.format([1,1,1,2,3,4,1].count(1)))"
   ]
  },
  {
   "cell_type": "code",
   "execution_count": 126,
   "id": "0a12eb76-f355-438e-96c0-28fafd55966c",
   "metadata": {},
   "outputs": [
    {
     "data": {
      "text/plain": [
       "[10, 15, 20, 30, 40, 50, 60, [70, 80], 70, 80]"
      ]
     },
     "execution_count": 126,
     "metadata": {},
     "output_type": "execute_result"
    }
   ],
   "source": [
    "# inserindo o elemento 15 na segunda posição (index=1)\n",
    "lista.insert(1,15)\n",
    "lista"
   ]
  },
  {
   "cell_type": "code",
   "execution_count": 127,
   "id": "a40cd308-7bea-4587-8f8a-7baf5b23613f",
   "metadata": {},
   "outputs": [
    {
     "name": "stdout",
     "output_type": "stream",
     "text": [
      "Último elemento: 80, lista restante: [10, 15, 20, 30, 40, 50, 60, [70, 80], 70]\n",
      "Penúltimo elemento: 70, lista restante: [10, 15, 20, 30, 40, 50, 60, [70, 80]]\n"
     ]
    }
   ],
   "source": [
    "# retirando o útimo elemento de uma lista\n",
    "ultimo = lista.pop()\n",
    "print('Último elemento: {}, lista restante: {}'.format(ultimo, lista))\n",
    "\n",
    "ultimo = lista.pop()\n",
    "print('Penúltimo elemento: {}, lista restante: {}'.format(ultimo, lista))"
   ]
  },
  {
   "cell_type": "code",
   "execution_count": 128,
   "id": "bc7539f3-ced2-4453-a94d-19dbeb8d0355",
   "metadata": {},
   "outputs": [
    {
     "name": "stdout",
     "output_type": "stream",
     "text": [
      "Primeiro da fila: 10, fila restante: [15, 20, 30, 40, 50, 60, [70, 80]]\n"
     ]
    }
   ],
   "source": [
    "# retirando um elemento de um índice específico\n",
    "# por exemplo o primeiro da fila\n",
    "i = 0\n",
    "elemento_retirado = lista.pop(i)\n",
    "print('Primeiro da fila: {}, fila restante: {}'.format(elemento_retirado, lista))"
   ]
  },
  {
   "cell_type": "code",
   "execution_count": 129,
   "id": "ea1be5b5-368c-4923-bd3e-0f9453c51292",
   "metadata": {},
   "outputs": [
    {
     "data": {
      "text/plain": [
       "[15, 20, 30, 40, 50, 60]"
      ]
     },
     "execution_count": 129,
     "metadata": {},
     "output_type": "execute_result"
    }
   ],
   "source": [
    "# removendo um elemento específico\n",
    "lista.remove([70,80])\n",
    "lista"
   ]
  },
  {
   "cell_type": "code",
   "execution_count": 130,
   "id": "1d1fc6a7-f6b2-46aa-8eec-22d218d8316b",
   "metadata": {},
   "outputs": [
    {
     "data": {
      "text/plain": [
       "[60, 50, 40, 30, 20, 15]"
      ]
     },
     "execution_count": 130,
     "metadata": {},
     "output_type": "execute_result"
    }
   ],
   "source": [
    "# revertendo a ordem dos elementos\n",
    "lista.reverse()\n",
    "lista"
   ]
  },
  {
   "cell_type": "code",
   "execution_count": 131,
   "id": "47e0c584-09e2-45c7-a6cf-e67d7d954c15",
   "metadata": {},
   "outputs": [
    {
     "data": {
      "text/plain": [
       "[15, 20, 30, 40, 50, 60]"
      ]
     },
     "execution_count": 131,
     "metadata": {},
     "output_type": "execute_result"
    }
   ],
   "source": [
    "# ordenando\n",
    "lista.sort()\n",
    "lista"
   ]
  },
  {
   "cell_type": "code",
   "execution_count": 132,
   "id": "a20df914-e5c2-4473-bcc5-e6d1c5e339c0",
   "metadata": {},
   "outputs": [
    {
     "name": "stdout",
     "output_type": "stream",
     "text": [
      "[60, 50, 40, 30, 20, 15]\n"
     ]
    }
   ],
   "source": [
    "# ordenando decrescente\n",
    "lista.sort(reverse = True)\n",
    "print(lista)\n",
    "\n",
    "# ou usando o método .reverse()\n",
    "[2,1,6,9,0,4,7].reverse()"
   ]
  },
  {
   "cell_type": "markdown",
   "id": "8f6bf6f2-d55f-46ba-b7ad-40179353f934",
   "metadata": {
    "jp-MarkdownHeadingCollapsed": true
   },
   "source": [
    "## 5. Dicionários\n",
    "Estrutura de dados com chaves e valores. Assim como as listas são bem versáteis e aceitam diversos tipos de dados."
   ]
  },
  {
   "cell_type": "markdown",
   "id": "42caf604-264c-40bb-b02e-d58f976b1288",
   "metadata": {},
   "source": [
    "### Básico"
   ]
  },
  {
   "cell_type": "code",
   "execution_count": 133,
   "id": "716a1d62-b0b8-465c-8e96-b3297e4f18ef",
   "metadata": {},
   "outputs": [
    {
     "data": {
      "text/plain": [
       "{}"
      ]
     },
     "execution_count": 133,
     "metadata": {},
     "output_type": "execute_result"
    }
   ],
   "source": [
    "# criando um dicionário vazio\n",
    "d = {}\n",
    "d"
   ]
  },
  {
   "cell_type": "code",
   "execution_count": 134,
   "id": "baf8f178-14ce-4d8a-84b4-8bbbedc832d3",
   "metadata": {},
   "outputs": [
    {
     "data": {
      "text/plain": [
       "{'chave1': 20, 'chave2': 25}"
      ]
     },
     "execution_count": 134,
     "metadata": {},
     "output_type": "execute_result"
    }
   ],
   "source": [
    "# criando um dicionário com chaves e valores\n",
    "dic = {'chave1':20, 'chave2':25}\n",
    "dic"
   ]
  },
  {
   "cell_type": "code",
   "execution_count": 135,
   "id": "26470acd-8fb8-4645-b696-e7825947a8ce",
   "metadata": {},
   "outputs": [
    {
     "data": {
      "text/plain": [
       "20"
      ]
     },
     "execution_count": 135,
     "metadata": {},
     "output_type": "execute_result"
    }
   ],
   "source": [
    "# retornando valores pelas chaves\n",
    "dic['chave1']"
   ]
  },
  {
   "cell_type": "code",
   "execution_count": 136,
   "id": "0ac4400b-0328-49f2-af69-b9d13a2fd167",
   "metadata": {},
   "outputs": [
    {
     "data": {
      "text/plain": [
       "{'chave1': 40, 'chave2': 25}"
      ]
     },
     "execution_count": 136,
     "metadata": {},
     "output_type": "execute_result"
    }
   ],
   "source": [
    "# alterando valores\n",
    "dic['chave1'] = 40\n",
    "dic"
   ]
  },
  {
   "cell_type": "code",
   "execution_count": 137,
   "id": "8321c4d2-78ff-4c49-9168-7aa7a26381eb",
   "metadata": {},
   "outputs": [
    {
     "data": {
      "text/plain": [
       "{'chave1': 40, 'chave2': 25, 'chave3': 59}"
      ]
     },
     "execution_count": 137,
     "metadata": {},
     "output_type": "execute_result"
    }
   ],
   "source": [
    "# adicionando novos pares de chave/valor\n",
    "dic['chave3']=59\n",
    "dic"
   ]
  },
  {
   "cell_type": "code",
   "execution_count": 138,
   "id": "6f15617e-cb9f-40e7-9c43-9933b106c324",
   "metadata": {},
   "outputs": [
    {
     "data": {
      "text/plain": [
       "{'chave1': {'subchave1': 1, 'subchave2': 2},\n",
       " 'chave2': {'subchave1': 3, 'subchave2': 4}}"
      ]
     },
     "execution_count": 138,
     "metadata": {},
     "output_type": "execute_result"
    }
   ],
   "source": [
    "# dicionários aninhados\n",
    "dic2 = {\n",
    "    'chave1':{\n",
    "        'subchave1':1,\n",
    "        'subchave2':2 \n",
    "    },\n",
    "    'chave2':{\n",
    "        'subchave1':3,\n",
    "        'subchave2':4 \n",
    "    }\n",
    "}\n",
    "dic2"
   ]
  },
  {
   "cell_type": "code",
   "execution_count": 139,
   "id": "677d1926-6213-4dc9-bcff-45f03616d934",
   "metadata": {},
   "outputs": [
    {
     "data": {
      "text/plain": [
       "2"
      ]
     },
     "execution_count": 139,
     "metadata": {},
     "output_type": "execute_result"
    }
   ],
   "source": [
    "# acessando os níveis\n",
    "dic2['chave1']['subchave2']"
   ]
  },
  {
   "cell_type": "markdown",
   "id": "4996839b-ed98-4d99-bd5f-edb42c41186d",
   "metadata": {},
   "source": [
    "### Métodos"
   ]
  },
  {
   "cell_type": "code",
   "execution_count": 140,
   "id": "08bbf92c-a84a-4bb4-b362-20d19e46fdd7",
   "metadata": {},
   "outputs": [
    {
     "data": {
      "text/plain": [
       "{'chave1': 40, 'chave2': 25, 'chave3': 59}"
      ]
     },
     "execution_count": 140,
     "metadata": {},
     "output_type": "execute_result"
    }
   ],
   "source": [
    "dic"
   ]
  },
  {
   "cell_type": "code",
   "execution_count": 141,
   "id": "80a897d1-f1eb-43f7-93ad-bb608fbfdac9",
   "metadata": {},
   "outputs": [
    {
     "data": {
      "text/plain": [
       "dict_keys(['chave1', 'chave2', 'chave3'])"
      ]
     },
     "execution_count": 141,
     "metadata": {},
     "output_type": "execute_result"
    }
   ],
   "source": [
    "# listando as chaves\n",
    "dic.keys()"
   ]
  },
  {
   "cell_type": "code",
   "execution_count": 142,
   "id": "1055e519-48c9-405c-a67e-78d4974c12ec",
   "metadata": {},
   "outputs": [
    {
     "data": {
      "text/plain": [
       "dict_values([40, 25, 59])"
      ]
     },
     "execution_count": 142,
     "metadata": {},
     "output_type": "execute_result"
    }
   ],
   "source": [
    "# listando valores\n",
    "dic.values()"
   ]
  },
  {
   "cell_type": "code",
   "execution_count": 143,
   "id": "dff545ac-6d81-4d6c-ba67-8339932b896f",
   "metadata": {},
   "outputs": [
    {
     "data": {
      "text/plain": [
       "dict_items([('chave1', 40), ('chave2', 25), ('chave3', 59)])"
      ]
     },
     "execution_count": 143,
     "metadata": {},
     "output_type": "execute_result"
    }
   ],
   "source": [
    "# listando tuplas de chave valores\n",
    "dic.items()"
   ]
  },
  {
   "cell_type": "markdown",
   "id": "ebd7e56d-c255-4d8d-9c3d-71160fde6d0a",
   "metadata": {
    "jp-MarkdownHeadingCollapsed": true
   },
   "source": [
    "## 6. Tuplas\n",
    "Tuplas são objetos similares às listas, mas tem a características de imutabilidade. Ou seja, as tuplas não podem ser modificadas (itens modificados ou adicinados).\n",
    "\n",
    "Elas são construídas com o uso dos parênteses ()."
   ]
  },
  {
   "cell_type": "markdown",
   "id": "6b76f27b-85f5-4a6d-b3d8-3e876745f1e4",
   "metadata": {},
   "source": [
    "### Básico"
   ]
  },
  {
   "cell_type": "code",
   "execution_count": 144,
   "id": "e275cdca-dde1-4eb7-891c-7ebc8ed33c86",
   "metadata": {},
   "outputs": [
    {
     "data": {
      "text/plain": [
       "(0, 1, 2)"
      ]
     },
     "execution_count": 144,
     "metadata": {},
     "output_type": "execute_result"
    }
   ],
   "source": [
    "# construindo uma tupla\n",
    "tup = (0,1,2)\n",
    "tup"
   ]
  },
  {
   "cell_type": "code",
   "execution_count": 145,
   "id": "2aeedb42-be13-434b-9cf0-d3fc6f23314d",
   "metadata": {},
   "outputs": [
    {
     "data": {
      "text/plain": [
       "3"
      ]
     },
     "execution_count": 145,
     "metadata": {},
     "output_type": "execute_result"
    }
   ],
   "source": [
    "# também podemos calcular o tamanho das tuplas\n",
    "len(tup)"
   ]
  },
  {
   "cell_type": "code",
   "execution_count": 146,
   "id": "18b6d6ba-2e51-4663-b6b8-a7d0e3dca570",
   "metadata": {},
   "outputs": [
    {
     "data": {
      "text/plain": [
       "(0, 'nath', 2)"
      ]
     },
     "execution_count": 146,
     "metadata": {},
     "output_type": "execute_result"
    }
   ],
   "source": [
    "# também é possível usar diferentes tipos de dados\n",
    "tup2 = (0,'nath',2)\n",
    "tup2"
   ]
  },
  {
   "cell_type": "code",
   "execution_count": 147,
   "id": "a8e69f8c-5837-47ac-bbe5-c2a614968b69",
   "metadata": {},
   "outputs": [
    {
     "data": {
      "text/plain": [
       "1"
      ]
     },
     "execution_count": 147,
     "metadata": {},
     "output_type": "execute_result"
    }
   ],
   "source": [
    "# e da mesma forma podem ser indexadas \n",
    "tup[1]"
   ]
  },
  {
   "cell_type": "code",
   "execution_count": 148,
   "id": "787bd344-acd2-42ea-9f6b-0cdf16233faf",
   "metadata": {},
   "outputs": [
    {
     "data": {
      "text/plain": [
       "(0,)"
      ]
     },
     "execution_count": 148,
     "metadata": {},
     "output_type": "execute_result"
    }
   ],
   "source": [
    "# e acessadas\n",
    "tup[:1]"
   ]
  },
  {
   "cell_type": "code",
   "execution_count": 149,
   "id": "6c1472b5-535b-4b7f-ac72-cf968656af83",
   "metadata": {},
   "outputs": [
    {
     "ename": "TypeError",
     "evalue": "'tuple' object does not support item assignment",
     "output_type": "error",
     "traceback": [
      "\u001b[1;31m---------------------------------------------------------------------------\u001b[0m",
      "\u001b[1;31mTypeError\u001b[0m                                 Traceback (most recent call last)",
      "Cell \u001b[1;32mIn[149], line 2\u001b[0m\n\u001b[0;32m      1\u001b[0m \u001b[38;5;66;03m# tentando mudar uma tupla\u001b[39;00m\n\u001b[1;32m----> 2\u001b[0m \u001b[43mtup\u001b[49m\u001b[43m[\u001b[49m\u001b[38;5;241;43m0\u001b[39;49m\u001b[43m]\u001b[49m \u001b[38;5;241m=\u001b[39m \u001b[38;5;241m2\u001b[39m\n",
      "\u001b[1;31mTypeError\u001b[0m: 'tuple' object does not support item assignment"
     ]
    }
   ],
   "source": [
    "# tentando mudar uma tupla\n",
    "tup[0] = 2"
   ]
  },
  {
   "cell_type": "code",
   "execution_count": 151,
   "id": "581abde0-3d6c-478d-bcd6-72aefaeb6bf3",
   "metadata": {},
   "outputs": [
    {
     "name": "stdout",
     "output_type": "stream",
     "text": [
      "1 2\n"
     ]
    }
   ],
   "source": [
    "# atribuição de variáveis\n",
    "a, b = (1,2)\n",
    "print(a,b)"
   ]
  },
  {
   "cell_type": "markdown",
   "id": "753406c6-7cef-4992-be37-dff38418a325",
   "metadata": {},
   "source": [
    "### Métodos"
   ]
  },
  {
   "cell_type": "code",
   "execution_count": 152,
   "id": "635c9c20-f9d8-4a89-be37-85491a8ee4db",
   "metadata": {},
   "outputs": [
    {
     "data": {
      "text/plain": [
       "1"
      ]
     },
     "execution_count": 152,
     "metadata": {},
     "output_type": "execute_result"
    }
   ],
   "source": [
    "# retornando o índice de um valor\n",
    "tup2.index('nath')"
   ]
  },
  {
   "cell_type": "code",
   "execution_count": 150,
   "id": "0c36af98-272d-4fa7-96c3-441de0bb97eb",
   "metadata": {},
   "outputs": [
    {
     "data": {
      "text/plain": [
       "4"
      ]
     },
     "execution_count": 150,
     "metadata": {},
     "output_type": "execute_result"
    }
   ],
   "source": [
    "# calculando a frequência de um determinado valor\n",
    "tup = (0,1,1,0,9,4,7,1,1)\n",
    "tup.count(1)"
   ]
  },
  {
   "cell_type": "markdown",
   "id": "2415a38e-3f44-42c6-844c-10b2757dd133",
   "metadata": {
    "jp-MarkdownHeadingCollapsed": true
   },
   "source": [
    "## 7. Conjuntos (sets)\n",
    "Os sets são conjuntos não ordenados de valores únicos"
   ]
  },
  {
   "cell_type": "markdown",
   "id": "966c5b55-ca56-4eeb-99c4-e98134e945dc",
   "metadata": {
    "jp-MarkdownHeadingCollapsed": true
   },
   "source": [
    "### Básicos"
   ]
  },
  {
   "cell_type": "code",
   "execution_count": 153,
   "id": "402363d2-c1bf-4acd-b577-daea07b0b15e",
   "metadata": {},
   "outputs": [
    {
     "data": {
      "text/plain": [
       "set()"
      ]
     },
     "execution_count": 153,
     "metadata": {},
     "output_type": "execute_result"
    }
   ],
   "source": [
    "conj = set()\n",
    "conj"
   ]
  },
  {
   "cell_type": "code",
   "execution_count": 154,
   "id": "14b31e88-fdbb-4f40-9ac6-05dde9363025",
   "metadata": {},
   "outputs": [
    {
     "data": {
      "text/plain": [
       "{0}"
      ]
     },
     "execution_count": 154,
     "metadata": {},
     "output_type": "execute_result"
    }
   ],
   "source": [
    "# adicionando um elemento\n",
    "conj.add(0)\n",
    "conj"
   ]
  },
  {
   "cell_type": "code",
   "execution_count": 155,
   "id": "e4b1ec52-a0f6-4dba-bc50-817586dc3586",
   "metadata": {},
   "outputs": [
    {
     "data": {
      "text/plain": [
       "{0, 10}"
      ]
     },
     "execution_count": 155,
     "metadata": {},
     "output_type": "execute_result"
    }
   ],
   "source": [
    "# adicionando outro elemento\n",
    "conj.add(10)\n",
    "conj"
   ]
  },
  {
   "cell_type": "code",
   "execution_count": 156,
   "id": "9be35008-1760-401d-9add-669ef304a7a1",
   "metadata": {},
   "outputs": [
    {
     "data": {
      "text/plain": [
       "{0, 10}"
      ]
     },
     "execution_count": 156,
     "metadata": {},
     "output_type": "execute_result"
    }
   ],
   "source": [
    "# adicionando um mesmo elemento\n",
    "conj.add(0)\n",
    "conj"
   ]
  },
  {
   "cell_type": "code",
   "execution_count": 157,
   "id": "6077af7e-8b0b-4c2e-9027-00073335453e",
   "metadata": {},
   "outputs": [
    {
     "data": {
      "text/plain": [
       "[1, 3, 3, 3, 2, 1, 4, 5, 6, 54, 8, 7, 6, 9, 0, 9, 9, 0, 8, 76, 4, 3]"
      ]
     },
     "execution_count": 157,
     "metadata": {},
     "output_type": "execute_result"
    }
   ],
   "source": [
    "# transformando uma lista em conjunto para retornar apenas valores únicos\n",
    "lista = [1,3,3,3,2,1,4,5,6,54,8,7,6,9,0,9,9,0,8,76,4,3,]\n",
    "lista"
   ]
  },
  {
   "cell_type": "code",
   "execution_count": 158,
   "id": "4f68b4a9-8f5a-4642-b962-64617383c8cb",
   "metadata": {},
   "outputs": [
    {
     "data": {
      "text/plain": [
       "{0, 1, 2, 3, 4, 5, 6, 7, 8, 9, 54, 76}"
      ]
     },
     "execution_count": 158,
     "metadata": {},
     "output_type": "execute_result"
    }
   ],
   "source": [
    "conj = set(lista)\n",
    "conj"
   ]
  },
  {
   "cell_type": "code",
   "execution_count": 159,
   "id": "2131ea9a-5b49-4250-beb6-90972027353b",
   "metadata": {},
   "outputs": [
    {
     "data": {
      "text/plain": [
       "{0, 1, 2, 3, 4, 5, 6, 7, 8, 9, 35, 54, 76}"
      ]
     },
     "execution_count": 159,
     "metadata": {},
     "output_type": "execute_result"
    }
   ],
   "source": [
    "conj.add(35)\n",
    "conj"
   ]
  },
  {
   "cell_type": "markdown",
   "id": "78594852-a894-425e-a0e2-8dfcff09d167",
   "metadata": {},
   "source": [
    "### Operações com conjuntos\n",
    "Também é possível fazer operaçõs de conjuntos (como da matemática) usando os métodos"
   ]
  },
  {
   "cell_type": "code",
   "execution_count": 160,
   "id": "74b90920-bec9-4cd7-837b-2481751f9bc4",
   "metadata": {},
   "outputs": [],
   "source": [
    "A = set([0,1,2,3])\n",
    "B = set([2,3,4,5])"
   ]
  },
  {
   "cell_type": "code",
   "execution_count": 161,
   "id": "1e79c995-fdb6-4b3f-9bca-83747df938fb",
   "metadata": {},
   "outputs": [
    {
     "data": {
      "text/plain": [
       "{2, 3}"
      ]
     },
     "execution_count": 161,
     "metadata": {},
     "output_type": "execute_result"
    }
   ],
   "source": [
    "# calculando a intersecção\n",
    "A.intersection(B)"
   ]
  },
  {
   "cell_type": "code",
   "execution_count": 162,
   "id": "27f67409-783b-49e4-b36b-cab42924c0d9",
   "metadata": {},
   "outputs": [
    {
     "data": {
      "text/plain": [
       "{0, 1, 2, 3, 4, 5}"
      ]
     },
     "execution_count": 162,
     "metadata": {},
     "output_type": "execute_result"
    }
   ],
   "source": [
    "# calculando a união\n",
    "A.union(B)"
   ]
  },
  {
   "cell_type": "markdown",
   "id": "4a2f73ef-3bcf-4450-aa31-f7bcf8cc6207",
   "metadata": {
    "jp-MarkdownHeadingCollapsed": true
   },
   "source": [
    "## 8. Booleanos\n",
    "São tipos de dados binários, sim ou não, verdadeiro ou falso, 0 ou 1.\n",
    "No python, esses dados são chamado de True e False"
   ]
  },
  {
   "cell_type": "code",
   "execution_count": 163,
   "id": "02092cbc-9ad1-447e-bc30-d65187cc2119",
   "metadata": {},
   "outputs": [
    {
     "data": {
      "text/plain": [
       "True"
      ]
     },
     "execution_count": 163,
     "metadata": {},
     "output_type": "execute_result"
    }
   ],
   "source": [
    "True"
   ]
  },
  {
   "cell_type": "code",
   "execution_count": 164,
   "id": "92cd885d-b7f2-42e3-a72d-49a8d4a3b82f",
   "metadata": {},
   "outputs": [
    {
     "data": {
      "text/plain": [
       "False"
      ]
     },
     "execution_count": 164,
     "metadata": {},
     "output_type": "execute_result"
    }
   ],
   "source": [
    "False"
   ]
  },
  {
   "cell_type": "code",
   "execution_count": 165,
   "id": "7242741a-0fa1-44d6-9b2e-083a39f71a6f",
   "metadata": {},
   "outputs": [
    {
     "data": {
      "text/plain": [
       "False"
      ]
     },
     "execution_count": 165,
     "metadata": {},
     "output_type": "execute_result"
    }
   ],
   "source": [
    "1 > 2"
   ]
  },
  {
   "cell_type": "code",
   "execution_count": 166,
   "id": "cad28959-1a19-4878-bbbc-cf342a4da53b",
   "metadata": {},
   "outputs": [
    {
     "data": {
      "text/plain": [
       "True"
      ]
     },
     "execution_count": 166,
     "metadata": {},
     "output_type": "execute_result"
    }
   ],
   "source": [
    "1 < 2"
   ]
  },
  {
   "cell_type": "code",
   "execution_count": 167,
   "id": "6890d39b-54d3-433a-87c3-f7c5ab3fa674",
   "metadata": {},
   "outputs": [
    {
     "data": {
      "text/plain": [
       "bool"
      ]
     },
     "execution_count": 167,
     "metadata": {},
     "output_type": "execute_result"
    }
   ],
   "source": [
    "type(True)"
   ]
  }
 ],
 "metadata": {
  "kernelspec": {
   "display_name": "Python 3 (ipykernel)",
   "language": "python",
   "name": "python3"
  },
  "language_info": {
   "codemirror_mode": {
    "name": "ipython",
    "version": 3
   },
   "file_extension": ".py",
   "mimetype": "text/x-python",
   "name": "python",
   "nbconvert_exporter": "python",
   "pygments_lexer": "ipython3",
   "version": "3.12.5"
  }
 },
 "nbformat": 4,
 "nbformat_minor": 5
}
